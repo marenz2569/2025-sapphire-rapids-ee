{
 "cells": [
  {
   "cell_type": "code",
   "execution_count": null,
   "metadata": {},
   "outputs": [],
   "source": [
    "import pandas as pd\n",
    "import matplotlib.pyplot as plt\n",
    "import glob\n",
    "from pathlib import Path\n",
    "import seaborn as sns\n",
    "import os\n",
    "from experiment_utils import Experiment, ExperimentFilter, Plotting"
   ]
  },
  {
   "cell_type": "code",
   "execution_count": null,
   "metadata": {},
   "outputs": [],
   "source": [
    "experiments = Experiment.get_experiments()\n",
    "experiments = list(filter(ExperimentFilter.by_experiment_name('avx-frequency-license-bands-without-isst'), experiments))\n",
    "experiment = ExperimentFilter.get_latest(experiments)\n",
    "experiment"
   ]
  },
  {
   "cell_type": "code",
   "execution_count": null,
   "metadata": {},
   "outputs": [],
   "source": [
    "variants = glob.glob(f'{experiment.path}/*/*/*')\n",
    "variants"
   ]
  },
  {
   "cell_type": "code",
   "execution_count": null,
   "metadata": {},
   "outputs": [],
   "source": [
    "def read_firestarter_from_lic(folder: str) -> pd.DataFrame:\n",
    "    \"\"\"\n",
    "    folder: The folder that contains the measurements for the different number of cores.\n",
    "    \"\"\"\n",
    "    df = pd.DataFrame()\n",
    "\n",
    "    for file in glob.glob(f'{folder}/firestarter-*'):\n",
    "        _name, index = Path(file).stem.split('-')\n",
    "        index = int(index) + 1\n",
    "\n",
    "        read_df = pd.read_csv(file)\n",
    "\n",
    "        for _index, row in read_df.iterrows():\n",
    "            metric = row['metric']\n",
    "            value = row['average']\n",
    "            df = pd.concat([df, pd.DataFrame([{'metric': metric, 'value': value, 'core_count': index}])])\n",
    "\n",
    "    return df"
   ]
  },
  {
   "cell_type": "code",
   "execution_count": null,
   "metadata": {},
   "outputs": [],
   "source": [
    "def read_uncore_from_lic(folder: str) -> pd.DataFrame:\n",
    "    \"\"\"\n",
    "    folder: The folder that contains the measurements for the different number of cores.\n",
    "    \"\"\"\n",
    "    df = pd.DataFrame()\n",
    "\n",
    "    for file in glob.glob(f'{folder}/uncore-freq-*'):\n",
    "        _name, _name2, index = Path(file).stem.split('-')\n",
    "        index = int(index) + 1\n",
    "\n",
    "        read_df = pd.read_csv(file)\n",
    "\n",
    "        for _index, row in read_df.iterrows():\n",
    "            metric = row['name']\n",
    "            value = row['average']\n",
    "            df = pd.concat([df, pd.DataFrame([{'metric': metric, 'value': value, 'core_count': index}])])\n",
    "\n",
    "    return df"
   ]
  },
  {
   "cell_type": "code",
   "execution_count": null,
   "metadata": {},
   "outputs": [],
   "source": [
    "data = pd.DataFrame()\n",
    "\n",
    "for variant in variants:\n",
    "    core_frequency, uncore_frequency, license = variant.split('/')[-3:]\n",
    "\n",
    "    lic_data = read_firestarter_from_lic(variant)\n",
    "    lic_data['core_frequency'] = core_frequency\n",
    "    lic_data['uncore_frequency'] = uncore_frequency\n",
    "    lic_data['license'] = license\n",
    "\n",
    "    data = pd.concat([data, lic_data])\n",
    "\n",
    "    lic_data = read_uncore_from_lic(variant)\n",
    "    lic_data['core_frequency'] = core_frequency\n",
    "    lic_data['uncore_frequency'] = uncore_frequency\n",
    "    lic_data['license'] = license\n",
    "    data = pd.concat([data, lic_data])\n",
    "\n",
    "data"
   ]
  },
  {
   "cell_type": "code",
   "execution_count": null,
   "metadata": {},
   "outputs": [],
   "source": [
    "working_data = data\n",
    "working_data = working_data.pivot_table(index=['license', 'core_count', 'core_frequency', 'uncore_frequency'], values='value', columns=['metric'])\n",
    "working_data['freq_times_power'] = working_data['sysfs-powercap-rapl/package-0'] / working_data['perf-freq']\n",
    "working_data = working_data.reset_index()\n",
    "\n",
    "license_level_to_name = {\n",
    "    'lic0': 'SSE',\n",
    "    'lic1': 'AVX2',\n",
    "    'lic2': 'AVX512',\n",
    "    'lic3': 'AMX'\n",
    "}\n",
    "\n",
    "LIC_NAME = 'License name'\n",
    "CORE_COUNT_NAME = 'Number of active cores'\n",
    "LICENSE_NAME = 'Used cdyn class'\n",
    "POWER_WATT_NAME = 'Power draw of package 0 [W]'\n",
    "CORE_FREQUENCY_NAME = 'Average frequency of running cores [GHz]'\n",
    "UNCORE_FREQUENCY_NAME = 'Average uncore frequency [GHz]'\n",
    "\n",
    "\n",
    "CORE_COUNT = 'Number of active cores'\n",
    "MAX_TURBO_FREQ = 'Maximum opportunistic turbo frequency [MHz]'\n",
    "POWER_WATT = 'Power draw of package 0 [W]'\n",
    "\n",
    "\n",
    "working_data[LIC_NAME] = working_data['license'].apply(lambda v: license_level_to_name[v])\n",
    "working_data[CORE_COUNT_NAME] = working_data['core_count']\n",
    "working_data[LICENSE_NAME] = working_data['license']\n",
    "\n",
    "working_data[POWER_WATT_NAME] = working_data['sysfs-powercap-rapl/package-0']\n",
    "working_data[CORE_FREQUENCY_NAME] = working_data['perf-freq']\n",
    "working_data[UNCORE_FREQUENCY_NAME] = working_data['package_00_die_00'] / 1e6\n",
    "\n",
    "working_data"
   ]
  },
  {
   "cell_type": "code",
   "execution_count": null,
   "metadata": {},
   "outputs": [],
   "source": [
    "hue_to_color = {\n",
    "    \"AMX\": sns.color_palette()[0],\n",
    "    \"AVX512\": sns.color_palette()[1],\n",
    "    \"AVX2\": sns.color_palette()[2],\n",
    "    \"SSE\": sns.color_palette()[3]\n",
    "}\n",
    "hue_order=list(hue_to_color.keys())"
   ]
  },
  {
   "cell_type": "code",
   "execution_count": null,
   "metadata": {},
   "outputs": [],
   "source": [
    "g = sns.FacetGrid(working_data, col=\"core_frequency\",  row=\"uncore_frequency\", height=5, row_order=[\"0x0808\", \"0x1010\", \"0x1919\", \"0x0819\"], col_order=[\"800\", \"1600\", \"2000\", \"performance\"])\n",
    "g.map(sns.scatterplot, CORE_COUNT_NAME, POWER_WATT_NAME, LIC_NAME, linewidth=1.5, hue_order=hue_order)\n",
    "\n",
    "g.add_legend()\n",
    "\n",
    "buckets = [28,34,40,44,48,50,54,56]\n",
    "for axi in g.axes:\n",
    "    for axj in axi:\n",
    "        for i in buckets:\n",
    "            axj.axvline(x=i, color='black', dashes=[2], linewidth=1)\n",
    "            axj.set_xlim(0, 58)\n",
    "            axj.set_xticks([0] + buckets)\n",
    "            axj.tick_params(axis='x', pad=0, rotation=45)\n",
    "\n",
    "Plotting.savefig(experiment, 'package-power.pdf', annotations_y_offset=0, annotations_y_spacing=0.025)"
   ]
  },
  {
   "cell_type": "code",
   "execution_count": null,
   "metadata": {},
   "outputs": [],
   "source": [
    "g = sns.FacetGrid(working_data, col=\"core_frequency\",  row=\"uncore_frequency\", height=5, row_order=[\"0x0808\", \"0x1010\", \"0x1919\", \"0x0819\"], col_order=[\"800\", \"1600\", \"2000\", \"performance\"])\n",
    "g.map(sns.scatterplot, CORE_COUNT_NAME, CORE_FREQUENCY_NAME, LIC_NAME, linewidth=1.5, hue_order=hue_order)\n",
    "g.add_legend()\n",
    "\n",
    "buckets = [28,34,40,44,48,50,54,56]\n",
    "for axi in g.axes:\n",
    "    for axj in axi:\n",
    "        for i in buckets:\n",
    "            axj.axvline(x=i, color='black', dashes=[2], linewidth=1)\n",
    "            axj.set_xlim(0, 58)\n",
    "            axj.set_xticks([0] + buckets)\n",
    "            axj.tick_params(axis='x', pad=0, rotation=45)\n",
    "\n",
    "Plotting.savefig(experiment, 'core-frequency.pdf', annotations_y_offset=0, annotations_y_spacing=0.025)"
   ]
  },
  {
   "cell_type": "code",
   "execution_count": null,
   "metadata": {},
   "outputs": [],
   "source": [
    "g = sns.FacetGrid(working_data, col=\"core_frequency\",  row=\"uncore_frequency\", height=5, row_order=[\"0x0808\", \"0x1010\", \"0x1919\", \"0x0819\"], col_order=[\"800\", \"1600\", \"2000\", \"performance\"])\n",
    "g.map(sns.scatterplot, CORE_COUNT_NAME, UNCORE_FREQUENCY_NAME, LIC_NAME, linewidth=1.5, hue_order=hue_order)\n",
    "\n",
    "g.add_legend()\n",
    "\n",
    "buckets = [28,34,40,44,48,50,54,56]\n",
    "for axi in g.axes:\n",
    "    for axj in axi:\n",
    "        for i in buckets:\n",
    "            axj.axvline(x=i, color='black', dashes=[2], linewidth=1)\n",
    "            axj.set_xlim(0, 58)\n",
    "            axj.set_xticks([0] + buckets)\n",
    "            axj.tick_params(axis='x', pad=0, rotation=45)\n",
    "\n",
    "Plotting.savefig(experiment, 'uncore-frequency.pdf', annotations_y_offset=0, annotations_y_spacing=0.025)"
   ]
  },
  {
   "cell_type": "code",
   "execution_count": null,
   "metadata": {},
   "outputs": [],
   "source": [
    "g = sns.FacetGrid(working_data[working_data[\"core_frequency\"] == \"performance\"], col=\"uncore_frequency\", height=5, col_order=[\"0x0808\", \"0x1010\", \"0x1919\", \"0x0819\"], col_wrap=2)\n",
    "g.map(sns.scatterplot, CORE_COUNT_NAME, CORE_FREQUENCY_NAME, LIC_NAME, linewidth=1.5, hue_order=hue_order)\n",
    "g.add_legend()\n",
    "\n",
    "buckets = [28,34,40,44,48,50,54,56]\n",
    "for axi in g.axes:\n",
    "    for i in buckets:\n",
    "        axi.axvline(x=i, color='black', dashes=[2], linewidth=1)\n",
    "        axi.set_xlim(0, 58)\n",
    "        axi.set_xticks([0] + buckets)\n",
    "        axi.tick_params(axis='x', pad=0, rotation=45)\n",
    "\n",
    "Plotting.savefig(experiment, 'core-frequency-performance.pdf', annotations_y_offset=0, annotations_y_spacing=0.025)"
   ]
  }
 ],
 "metadata": {
  "kernelspec": {
   "display_name": "Python 3 (ipykernel)",
   "language": "python",
   "name": "python3"
  },
  "language_info": {
   "codemirror_mode": {
    "name": "ipython",
    "version": 3
   },
   "file_extension": ".py",
   "mimetype": "text/x-python",
   "name": "python",
   "nbconvert_exporter": "python",
   "pygments_lexer": "ipython3",
   "version": "3.12.11"
  }
 },
 "nbformat": 4,
 "nbformat_minor": 2
}
