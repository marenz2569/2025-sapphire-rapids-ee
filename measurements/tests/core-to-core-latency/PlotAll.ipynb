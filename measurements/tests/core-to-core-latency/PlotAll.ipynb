{
 "cells": [
  {
   "cell_type": "code",
   "execution_count": null,
   "metadata": {
    "execution": {
     "iopub.execute_input": "2025-08-25T21:07:24.758803Z",
     "iopub.status.busy": "2025-08-25T21:07:24.758447Z",
     "iopub.status.idle": "2025-08-25T21:07:27.117840Z",
     "shell.execute_reply": "2025-08-25T21:07:27.117086Z"
    }
   },
   "outputs": [],
   "source": [
    "import matplotlib.pyplot as plt\n",
    "import pandas as pd\n",
    "import seaborn as sns\n",
    "from scipy.cluster.vq import kmeans\n",
    "from scipy.cluster.vq import vq\n",
    "from scipy.stats import norm\n",
    "from multiprocessing import Pool\n",
    "from pathlib import Path\n",
    "import json\n",
    "import os\n",
    "from experiment_utils import Experiment, ExperimentFilter, Plotting"
   ]
  },
  {
   "cell_type": "code",
   "execution_count": null,
   "metadata": {
    "execution": {
     "iopub.execute_input": "2025-08-25T21:07:27.130219Z",
     "iopub.status.busy": "2025-08-25T21:07:27.129999Z",
     "iopub.status.idle": "2025-08-25T21:07:27.133138Z",
     "shell.execute_reply": "2025-08-25T21:07:27.132623Z"
    }
   },
   "outputs": [],
   "source": [
    "nominal_speed_ghz = 2.0\n",
    "ACCESS_LATENCY_NS = 'Core to core communication latency [ns]'\n",
    "MIN_MU_ACCESS_LATENCY_NS = 'Minimal core to core communication latency [ns]'\n",
    "MU_ACCESS_LATENCY_NS = 'Average core to core communication latency [ns]'\n",
    "MAX_MU_ACCESS_LATENCY_NS = 'Maximal core to core communication latency [ns]'\n",
    "STD_ACCESS_LATENCY_NS = 'Stddev of core to core communication latency [ns]'\n",
    "DIFF_MU_ACCESS_LATENCY_NS = 'Difference in core to core communication latency [ns]'\n",
    "CORE_FREQUENCY = 'Core frequency [MHz]'\n",
    "UNCORE_FREQUENCY = 'Unore frequency [MHz]'\n",
    "PING_CORE = 'Ping CPU with memory allocated in its NUMA node'\n",
    "PONG_CORE = 'Pong CPU'\n",
    "num_cacheboxes = 14"
   ]
  },
  {
   "cell_type": "code",
   "execution_count": null,
   "metadata": {
    "execution": {
     "iopub.execute_input": "2025-08-25T21:07:27.134806Z",
     "iopub.status.busy": "2025-08-25T21:07:27.134540Z",
     "iopub.status.idle": "2025-08-25T21:07:27.138886Z",
     "shell.execute_reply": "2025-08-25T21:07:27.138413Z"
    }
   },
   "outputs": [],
   "source": [
    "def get_latencies(latencies_results_txt: str):\n",
    "    def mu(data):\n",
    "        return norm.fit(data)[0]\n",
    "\n",
    "    def std(data):\n",
    "        return norm.fit(data)[1]\n",
    "\n",
    "    data_all = pd.read_csv(latencies_results_txt)\n",
    "    # divide by 2 as we do two accesses with each ping pong\n",
    "    data_all['LatencyPerAccess'] = data_all['Latency'] / data_all['Repetitions Set'] / 2\n",
    "    data_all[ACCESS_LATENCY_NS] = data_all['LatencyPerAccess'] / nominal_speed_ghz\n",
    "\n",
    "    cachelines_modeled = pd.pivot_table(data_all, values=ACCESS_LATENCY_NS, index='Cache Line', aggfunc={ACCESS_LATENCY_NS: [mu, std]})\n",
    "    cachelines_modeled = cachelines_modeled.rename(columns={'mu': MU_ACCESS_LATENCY_NS, 'std': STD_ACCESS_LATENCY_NS})\n",
    "\n",
    "    sorted_cachelines = sorted(cachelines_modeled[MU_ACCESS_LATENCY_NS])\n",
    "\n",
    "    min_points = [ 1/num_cacheboxes/2 + i/num_cacheboxes for i in range(num_cacheboxes) ]\n",
    "    k_points = [ sorted_cachelines[int(percentatge * len(cachelines_modeled))] for percentatge in min_points ]\n",
    "\n",
    "    codebook, _distortion = kmeans(cachelines_modeled[MU_ACCESS_LATENCY_NS], k_points)\n",
    "\n",
    "    code, _distortion = vq(cachelines_modeled[MU_ACCESS_LATENCY_NS], codebook)\n",
    "\n",
    "    slice_latencies = list()\n",
    "    for i in range(num_cacheboxes):\n",
    "        mu, std = norm.fit(cachelines_modeled[MU_ACCESS_LATENCY_NS][code == i])\n",
    "        slice_latencies.append(mu)\n",
    "        # print(f'Cache Slice 0: Mu: {mu} Std: {std}')\n",
    "    slice_latencies = sorted(slice_latencies)\n",
    "\n",
    "    formated_slice_latencies = list(map(lambda v: \"{:.1f}\".format(v), slice_latencies))\n",
    "    # print(f'Latencies of each of the {num_cacheboxes} cache slices: {formated_slice_latencies}')\n",
    "\n",
    "    return cachelines_modeled, slice_latencies\n"
   ]
  },
  {
   "cell_type": "code",
   "execution_count": null,
   "metadata": {
    "execution": {
     "iopub.execute_input": "2025-08-25T21:07:27.140256Z",
     "iopub.status.busy": "2025-08-25T21:07:27.140079Z",
     "iopub.status.idle": "2025-08-25T21:07:27.143165Z",
     "shell.execute_reply": "2025-08-25T21:07:27.142593Z"
    }
   },
   "outputs": [],
   "source": [
    "def plot_single_core_pair(cachelines_modeled, slice_latencies, vmin, vmax):\n",
    "    buckets = [ 100*i/num_cacheboxes for i in range(num_cacheboxes) ]\n",
    "\n",
    "    ax = sns.ecdfplot(cachelines_modeled, x=MU_ACCESS_LATENCY_NS, stat='percent')\n",
    "    ax.set_xlim(vmin, vmax)\n",
    "    ax.set_ylim(0, 100)\n",
    "\n",
    "    for i in buckets:\n",
    "        plt.axhline(y=i, color='black', dashes=[2], linewidth=1)\n",
    "\n",
    "    for i in slice_latencies:\n",
    "        plt.axvline(x=i, color='black', dashes=[2], linewidth=1)"
   ]
  },
  {
   "cell_type": "code",
   "execution_count": null,
   "metadata": {},
   "outputs": [],
   "source": [
    "experiments = Experiment.get_experiments()\n",
    "experiments = list(filter(ExperimentFilter.by_experiment_name('core-to-core-latency'), experiments))\n",
    "experiment = ExperimentFilter.get_latest(experiments)\n",
    "experiment"
   ]
  },
  {
   "cell_type": "code",
   "execution_count": null,
   "metadata": {
    "execution": {
     "iopub.execute_input": "2025-08-25T21:07:27.144810Z",
     "iopub.status.busy": "2025-08-25T21:07:27.144361Z",
     "iopub.status.idle": "2025-08-25T21:07:27.390010Z",
     "shell.execute_reply": "2025-08-25T21:07:27.389310Z"
    }
   },
   "outputs": [],
   "source": [
    "cachelines_modeled, slice_latencies = get_latencies(f'{experiment.path}/3800000/25/0/1/latency_results.txt')\n",
    "plot_single_core_pair(cachelines_modeled, slice_latencies, vmin=35, vmax=50)\n",
    "Plotting.savefig(experiment, 'core0to1latency.pdf', annotations_y_offset=0, annotations_y_spacing=0.025)"
   ]
  },
  {
   "cell_type": "code",
   "execution_count": null,
   "metadata": {
    "execution": {
     "iopub.execute_input": "2025-08-25T21:07:27.416986Z",
     "iopub.status.busy": "2025-08-25T21:07:27.416127Z",
     "iopub.status.idle": "2025-08-25T21:07:27.419392Z",
     "shell.execute_reply": "2025-08-25T21:07:27.418863Z"
    }
   },
   "outputs": [],
   "source": [
    "def mean(list_int):\n",
    "    return sum(list_int) / len(list_int)"
   ]
  },
  {
   "cell_type": "code",
   "execution_count": null,
   "metadata": {
    "execution": {
     "iopub.execute_input": "2025-08-25T21:07:27.421168Z",
     "iopub.status.busy": "2025-08-25T21:07:27.420718Z",
     "iopub.status.idle": "2025-08-25T21:07:27.423818Z",
     "shell.execute_reply": "2025-08-25T21:07:27.423163Z"
    }
   },
   "outputs": [],
   "source": [
    "def get_dataframe_from_file(file):\n",
    "    file_path = Path(file)\n",
    "    data_path = file_path.parent / 'settings.json'\n",
    "\n",
    "    with open(data_path, 'r') as f:\n",
    "        data = json.load(f)\n",
    "\n",
    "        try:\n",
    "            _cachelines_modeled, slice_latencies = get_latencies(file)\n",
    "        except:\n",
    "            return None\n",
    "\n",
    "        data[PING_CORE] = data['this_cpu']\n",
    "        data[PONG_CORE] = data['other_cpu']\n",
    "        data[MIN_MU_ACCESS_LATENCY_NS] = min(slice_latencies)\n",
    "        data[MU_ACCESS_LATENCY_NS] = mean(slice_latencies)\n",
    "        data[MAX_MU_ACCESS_LATENCY_NS] = max(slice_latencies)\n",
    "        data[DIFF_MU_ACCESS_LATENCY_NS] = max(slice_latencies) - min(slice_latencies)\n",
    "        data[CORE_FREQUENCY] = data['core_frequency'] // 1000\n",
    "        data[UNCORE_FREQUENCY] = data['uncore_frequency'] * 100\n",
    "\n",
    "        return pd.DataFrame([data])"
   ]
  },
  {
   "cell_type": "code",
   "execution_count": null,
   "metadata": {
    "execution": {
     "iopub.execute_input": "2025-08-25T21:07:27.425567Z",
     "iopub.status.busy": "2025-08-25T21:07:27.425062Z",
     "iopub.status.idle": "2025-08-25T21:07:27.428291Z",
     "shell.execute_reply": "2025-08-25T21:07:27.427786Z"
    }
   },
   "outputs": [],
   "source": [
    "def read_files(files) -> pd.DataFrame:\n",
    "    with Pool(os.cpu_count()) as p:\n",
    "        optional_dataframe_list = p.map(get_dataframe_from_file, files)\n",
    "\n",
    "        data = pd.DataFrame()\n",
    "\n",
    "        for entry in optional_dataframe_list:\n",
    "            if entry is None:\n",
    "                continue\n",
    "            data = pd.concat([\n",
    "                data,\n",
    "                entry\n",
    "            ])\n",
    "\n",
    "        return data"
   ]
  },
  {
   "cell_type": "code",
   "execution_count": null,
   "metadata": {
    "execution": {
     "iopub.execute_input": "2025-08-25T21:07:27.429720Z",
     "iopub.status.busy": "2025-08-25T21:07:27.429457Z",
     "iopub.status.idle": "2025-08-25T21:09:08.401515Z",
     "shell.execute_reply": "2025-08-25T21:09:08.400472Z"
    }
   },
   "outputs": [],
   "source": [
    "files = experiment.path.rglob('latency_results.txt')\n",
    "data = read_files(files)\n",
    "data"
   ]
  },
  {
   "cell_type": "code",
   "execution_count": null,
   "metadata": {},
   "outputs": [],
   "source": [
    "vmin = min(data[MIN_MU_ACCESS_LATENCY_NS])\n",
    "vmin = vmin//10*10\n",
    "vmin"
   ]
  },
  {
   "cell_type": "code",
   "execution_count": null,
   "metadata": {},
   "outputs": [],
   "source": [
    "vmax = min(data[MAX_MU_ACCESS_LATENCY_NS])\n",
    "vmax = (vmax//10+1)*10\n",
    "vmax"
   ]
  },
  {
   "cell_type": "code",
   "execution_count": null,
   "metadata": {},
   "outputs": [],
   "source": [
    "def get_min_max(data):\n",
    "    vmin = min(data[MIN_MU_ACCESS_LATENCY_NS])\n",
    "    vmin = vmin//10*10\n",
    "\n",
    "    vmax = min(data[MAX_MU_ACCESS_LATENCY_NS])\n",
    "    vmax = (vmax//10+1)*10\n",
    "\n",
    "    return vmin, vmax"
   ]
  },
  {
   "cell_type": "code",
   "execution_count": null,
   "metadata": {
    "execution": {
     "iopub.execute_input": "2025-08-25T21:09:08.486076Z",
     "iopub.status.busy": "2025-08-25T21:09:08.485849Z",
     "iopub.status.idle": "2025-08-25T21:09:08.493701Z",
     "shell.execute_reply": "2025-08-25T21:09:08.493058Z"
    }
   },
   "outputs": [],
   "source": [
    "def plot_core_to_core_heatmap(heatmap_data, metric, **kwargs):\n",
    "    fig, ax = plt.subplots(figsize=(10, 10))\n",
    "\n",
    "    sns.heatmap(heatmap_data.pivot(index=PING_CORE, columns=PONG_CORE, values=metric),\n",
    "                ax=ax,\n",
    "                square=True,\n",
    "                cmap=\"viridis\",\n",
    "                linecolor=\"black\",\n",
    "                linewidths=0.5,\n",
    "                cbar_kws={'label': metric},\n",
    "                **kwargs)\n",
    "\n",
    "    core_frequencies = heatmap_data[CORE_FREQUENCY].unique()\n",
    "    uncore_frequencies = heatmap_data[UNCORE_FREQUENCY].unique()\n",
    "\n",
    "    assert(len(core_frequencies) == 1)\n",
    "    assert(len(uncore_frequencies) == 1)\n",
    "\n",
    "    ax.text(x=0.5,\n",
    "            y=1.05,\n",
    "            s=f'Core to core latency on socket 0 with {core_frequencies[0]}MHz core and {uncore_frequencies[0]}MHz uncore frequency',\n",
    "            va=\"top\",\n",
    "            ha=\"center\",\n",
    "            transform=ax.transAxes)"
   ]
  },
  {
   "cell_type": "code",
   "execution_count": null,
   "metadata": {
    "execution": {
     "iopub.execute_input": "2025-08-25T21:09:08.496033Z",
     "iopub.status.busy": "2025-08-25T21:09:08.495861Z",
     "iopub.status.idle": "2025-08-25T21:09:09.357405Z",
     "shell.execute_reply": "2025-08-25T21:09:09.356600Z"
    }
   },
   "outputs": [],
   "source": [
    "all_core_data = pd.DataFrame()\n",
    "\n",
    "for core_frequency in data[CORE_FREQUENCY].unique():\n",
    "    for uncore_frequency in data[UNCORE_FREQUENCY].unique():\n",
    "        filtered_data = data[data[CORE_FREQUENCY] == core_frequency]\n",
    "        filtered_data = filtered_data[filtered_data[UNCORE_FREQUENCY] == uncore_frequency]\n",
    "\n",
    "        all_core_data = pd.concat([\n",
    "            all_core_data,\n",
    "            pd.DataFrame([{\n",
    "                CORE_FREQUENCY: core_frequency,\n",
    "                UNCORE_FREQUENCY: uncore_frequency,\n",
    "                MIN_MU_ACCESS_LATENCY_NS: min(filtered_data[MIN_MU_ACCESS_LATENCY_NS]),\n",
    "                MAX_MU_ACCESS_LATENCY_NS: max(filtered_data[MAX_MU_ACCESS_LATENCY_NS]),\n",
    "                DIFF_MU_ACCESS_LATENCY_NS: max(filtered_data[DIFF_MU_ACCESS_LATENCY_NS]),\n",
    "            }])\n",
    "        ])\n",
    "\n",
    "        vmin, vmax = get_min_max(filtered_data)\n",
    "\n",
    "        plot_core_to_core_heatmap(filtered_data, MIN_MU_ACCESS_LATENCY_NS, vmin=vmin, vmax=vmax)\n",
    "        Plotting.savefig(experiment, f'core-to-core-heatmap-min-{core_frequency}-{uncore_frequency}.pdf', annotations_y_offset=0.1, annotations_y_spacing=0.0125, annotations_x_offset=0.1)\n",
    "\n",
    "        plot_core_to_core_heatmap(filtered_data, MU_ACCESS_LATENCY_NS, vmin=vmin, vmax=vmax)\n",
    "        Plotting.savefig(experiment, f'core-to-core-heatmap-avg-{core_frequency}-{uncore_frequency}.pdf', annotations_y_offset=0.1, annotations_y_spacing=0.0125, annotations_x_offset=0.1)\n",
    "\n",
    "        plot_core_to_core_heatmap(filtered_data, MAX_MU_ACCESS_LATENCY_NS, vmin=vmin, vmax=vmax)\n",
    "        Plotting.savefig(experiment, f'core-to-core-heatmap-max-{core_frequency}-{uncore_frequency}.pdf', annotations_y_offset=0.1, annotations_y_spacing=0.0125, annotations_x_offset=0.1)\n",
    "\n",
    "        plot_core_to_core_heatmap(filtered_data, DIFF_MU_ACCESS_LATENCY_NS)\n",
    "        Plotting.savefig(experiment, f'core-to-core-heatmap-diff-{core_frequency}-{uncore_frequency}.pdf', annotations_y_offset=0.1, annotations_y_spacing=0.0125, annotations_x_offset=0.1)\n"
   ]
  },
  {
   "cell_type": "code",
   "execution_count": null,
   "metadata": {},
   "outputs": [],
   "source": [
    "all_core_data"
   ]
  },
  {
   "cell_type": "code",
   "execution_count": null,
   "metadata": {},
   "outputs": [],
   "source": [
    "def plot_all_core_heatmap(heatmap_data, metric, **kwargs):\n",
    "    fig, ax = plt.subplots(figsize=(5, 5))\n",
    "\n",
    "    sns.heatmap(heatmap_data.pivot(index=UNCORE_FREQUENCY, columns=CORE_FREQUENCY, values=metric),\n",
    "                ax=ax,\n",
    "                square=True,\n",
    "                annot=True,\n",
    "                cmap=\"viridis\",\n",
    "                linecolor=\"black\",\n",
    "                linewidths=0.5,\n",
    "                cbar_kws={'label': metric},\n",
    "                fmt=\".1f\",\n",
    "                **kwargs)"
   ]
  },
  {
   "cell_type": "code",
   "execution_count": null,
   "metadata": {},
   "outputs": [],
   "source": [
    "plot_all_core_heatmap(all_core_data, MIN_MU_ACCESS_LATENCY_NS)\n",
    "Plotting.savefig(experiment, f'all-to-all-heatmap-min.pdf', annotations_y_offset=0.1, annotations_y_spacing=0.025, annotations_x_offset=0.01)\n",
    "\n",
    "plot_all_core_heatmap(all_core_data, MAX_MU_ACCESS_LATENCY_NS)\n",
    "Plotting.savefig(experiment, f'all-to-all-heatmap-max.pdf', annotations_y_offset=0.1, annotations_y_spacing=0.025, annotations_x_offset=0.01)\n",
    "\n",
    "plot_all_core_heatmap(all_core_data, DIFF_MU_ACCESS_LATENCY_NS)\n",
    "Plotting.savefig(experiment, f'all-to-all-heatmap-diff.pdf', annotations_y_offset=0.1, annotations_y_spacing=0.025, annotations_x_offset=0.01)"
   ]
  }
 ],
 "metadata": {
  "kernelspec": {
   "display_name": "Python 3 (ipykernel)",
   "language": "python",
   "name": "python3"
  },
  "language_info": {
   "codemirror_mode": {
    "name": "ipython",
    "version": 3
   },
   "file_extension": ".py",
   "mimetype": "text/x-python",
   "name": "python",
   "nbconvert_exporter": "python",
   "pygments_lexer": "ipython3",
   "version": "3.12.11"
  }
 },
 "nbformat": 4,
 "nbformat_minor": 4
}
