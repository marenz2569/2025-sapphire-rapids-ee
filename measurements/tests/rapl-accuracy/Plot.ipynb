{
 "cells": [
  {
   "cell_type": "code",
   "execution_count": null,
   "metadata": {
    "collapsed": true
   },
   "outputs": [],
   "source": [
    "import pandas as pd\n",
    "import numpy as np\n",
    "import matplotlib.pyplot as plt\n",
    "\n",
    "from IPython.display import Markdown, display\n",
    "\n",
    "from sklearn.linear_model import Ridge\n",
    "from sklearn.preprocessing import PolynomialFeatures\n",
    "from sklearn.pipeline import make_pipeline\n",
    "\n",
    "from experiment_utils import Experiment, ExperimentFilter, Plotting\n",
    "from experiment_utils.roco2_python import Kernel"
   ]
  },
  {
   "cell_type": "code",
   "execution_count": null,
   "metadata": {
    "collapsed": false
   },
   "outputs": [],
   "source": [
    "def printmd(string):\n",
    "    display(Markdown(string))"
   ]
  },
  {
   "cell_type": "code",
   "execution_count": null,
   "metadata": {},
   "outputs": [],
   "source": [
    "experiments = Experiment.get_experiments()\n",
    "experiments = list(filter(ExperimentFilter.by_experiment_name('rapl-accuracy'), experiments))\n",
    "experiment = ExperimentFilter.get_latest(experiments)\n",
    "experiment"
   ]
  },
  {
   "cell_type": "code",
   "execution_count": null,
   "metadata": {},
   "outputs": [],
   "source": [
    "data = pd.read_csv(experiment.path / 'results.csv', sep=',')"
   ]
  },
  {
   "cell_type": "code",
   "execution_count": null,
   "metadata": {},
   "outputs": [],
   "source": [
    "data"
   ]
  },
  {
   "cell_type": "code",
   "execution_count": null,
   "metadata": {
    "collapsed": false
   },
   "outputs": [],
   "source": [
    "power_patterns = {\n",
    "    'metricq': 'Reference Measurement [W]',\n",
    "    'sysfs-powercap-rapl': 'RAPL Package + DRAM [W]',\n",
    "    'perf-freq': 'Average CPU frequency [GHz]',\n",
    "    'threads': 'Number of threads'\n",
    "}\n",
    "\n",
    "pattern_x = 'sysfs-powercap-rapl'\n",
    "pattern_y = 'metricq'\n",
    "\n",
    "data[pattern_x] = list(map(float, data[pattern_x]))\n",
    "data[pattern_y] = list(map(float, data[pattern_y]))\n",
    "\n",
    "printmd(\"### Number of experiments: {}\".format(len(data)))\n",
    "\n",
    "label_x = power_patterns[pattern_x]\n",
    "label_y = power_patterns[pattern_y]\n",
    "power_x_columns = data.filter(regex=pattern_x)\n",
    "power_y_columns = data.filter(regex=pattern_y)\n",
    "printmd(\"### Using X-{} power metrics: {} [{}]\" \\\n",
    "        .format(label_x, pattern_x, ', '.join(power_x_columns.columns.values)))\n",
    "printmd(\"### Using Y-{} power metrics: {} [{}]\" \\\n",
    "        .format(label_y, pattern_y, ', '.join(power_y_columns.columns.values)))\n",
    "\n",
    "data['kernel'] = data.experiment.apply(Kernel)\n",
    "\n",
    "data['power_x'] = power_x_columns.sum(1)\n",
    "data['power_y'] = power_y_columns.sum(1)\n",
    "\n",
    "printmd('### Kernels:')\n",
    "printmd('\\n'.join([' * {}'.format(x) for x in data.kernel.unique()]))\n",
    "\n",
    "printmd('### Frequencies:')\n",
    "printmd('\\n'.join([' * {}'.format(x) for x in data['perf-freq'].unique()]))\n",
    "\n",
    "printmd('### Thread counts:')\n",
    "printmd('\\n'.join([' * {}'.format(x) for x in data.threads.unique()]))"
   ]
  },
  {
   "cell_type": "code",
   "execution_count": null,
   "metadata": {
    "collapsed": false
   },
   "outputs": [],
   "source": [
    "degree = 2\n",
    "\n",
    "model = make_pipeline(PolynomialFeatures(degree), Ridge())\n",
    "xses = data.power_x.to_numpy().reshape(-1, 1)\n",
    "yses = data.power_y.to_numpy().reshape(-1, 1)\n",
    "fit = model.fit(xses, yses)\n",
    "names = {\n",
    "    1: 'linear',\n",
    "    2: 'quadratic',\n",
    "    3: 'cubic'\n",
    "}\n",
    "model_name = names[degree]\n",
    "\n",
    "plt.rcParams['figure.figsize'] = 10,6\n",
    "plt.rcParams['font.size'] = 13\n",
    "plt.rcParams['legend.fontsize'] = plt.rcParams['font.size']\n",
    "\n",
    "for kernel, k_group in data.groupby('kernel'):\n",
    "    plt.plot(k_group.power_x, k_group.power_y, color=kernel.color, marker=kernel.marker, ls='', label=kernel.name)\n",
    "x_min, x_max = plt.gca().get_xlim()\n",
    "x_plot = np.linspace(x_min, x_max, 1000)\n",
    "fit_y_vals = model.predict(x_plot.reshape(-1,1))\n",
    "offset_in_percent = 1\n",
    "fit_y_vals_minus_percent = list(map(lambda x: (1 - offset_in_percent / 100) * x, model.predict(x_plot.reshape(-1,1))))\n",
    "fit_y_vals_plus_percent = list(map(lambda x: (1 + offset_in_percent / 100) * x, model.predict(x_plot.reshape(-1,1))))\n",
    "plt.plot(x_plot, fit_y_vals_minus_percent, ls=':', color='black', label='{} fit - {}%'.format(model_name, offset_in_percent))\n",
    "plt.plot(x_plot, fit_y_vals, ls=':', color='black', label='{} fit'.format(model_name))\n",
    "plt.plot(x_plot, fit_y_vals_plus_percent, ls=':', color='black', label='{} fit + {}%'.format(model_name, offset_in_percent))\n",
    "plt.xlabel(label_x)\n",
    "plt.ylabel(label_y)\n",
    "# plot.ideal(x_max, ls='-', color='gray', label='identity')\n",
    "\n",
    "# plt.gca().set_xlim(xmin=200)\n",
    "# plt.gca().set_ylim(ymin=750)\n",
    "plt.legend(loc='best', numpoints=1, fontsize=plt.rcParams['font.size'], ncol=2)\n",
    "\n",
    "Plotting.savefig(experiment, 'rapl-accuracy.pdf', annotations_x_offset=0.05, annotations_y_offset=0.0125, annotations_y_spacing=0.025)\n",
    "\n",
    "plt.show()"
   ]
  }
 ],
 "metadata": {
  "kernelspec": {
   "display_name": "Python 3 (ipykernel)",
   "language": "python",
   "name": "python3"
  },
  "language_info": {
   "codemirror_mode": {
    "name": "ipython",
    "version": 3
   },
   "file_extension": ".py",
   "mimetype": "text/x-python",
   "name": "python",
   "nbconvert_exporter": "python",
   "pygments_lexer": "ipython3",
   "version": "3.12.11"
  },
  "widgets": {
   "state": {
    "56fbe931f180499687d1325f12002e74": {
     "views": [
      {
       "cell_index": 3
      }
     ]
    },
    "b098bdd995d14d59b50ec5f846c4ab21": {
     "views": [
      {
       "cell_index": 4
      }
     ]
    }
   },
   "version": "1.2.0"
  }
 },
 "nbformat": 4,
 "nbformat_minor": 0
}
