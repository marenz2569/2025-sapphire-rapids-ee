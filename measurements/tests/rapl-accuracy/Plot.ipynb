{
 "cells": [
  {
   "cell_type": "code",
   "execution_count": 1,
   "metadata": {},
   "outputs": [
    {
     "name": "stdout",
     "output_type": "stream",
     "text": [
      "Requirement already satisfied: pandas in /home/marenz/de/tu-dresden/zih/roco2/.venv/lib/python3.12/site-packages (2.2.3)\n",
      "Requirement already satisfied: numpy in /home/marenz/de/tu-dresden/zih/roco2/.venv/lib/python3.12/site-packages (2.2.2)\n",
      "Requirement already satisfied: matplotlib in /home/marenz/de/tu-dresden/zih/roco2/.venv/lib/python3.12/site-packages (3.10.0)\n",
      "Requirement already satisfied: scikit-learn in /home/marenz/de/tu-dresden/zih/roco2/.venv/lib/python3.12/site-packages (1.6.1)\n",
      "Requirement already satisfied: python-dateutil>=2.8.2 in /home/marenz/de/tu-dresden/zih/roco2/.venv/lib/python3.12/site-packages (from pandas) (2.9.0.post0)\n",
      "Requirement already satisfied: pytz>=2020.1 in /home/marenz/de/tu-dresden/zih/roco2/.venv/lib/python3.12/site-packages (from pandas) (2024.2)\n",
      "Requirement already satisfied: tzdata>=2022.7 in /home/marenz/de/tu-dresden/zih/roco2/.venv/lib/python3.12/site-packages (from pandas) (2025.1)\n",
      "Requirement already satisfied: contourpy>=1.0.1 in /home/marenz/de/tu-dresden/zih/roco2/.venv/lib/python3.12/site-packages (from matplotlib) (1.3.1)\n",
      "Requirement already satisfied: cycler>=0.10 in /home/marenz/de/tu-dresden/zih/roco2/.venv/lib/python3.12/site-packages (from matplotlib) (0.12.1)\n",
      "Requirement already satisfied: fonttools>=4.22.0 in /home/marenz/de/tu-dresden/zih/roco2/.venv/lib/python3.12/site-packages (from matplotlib) (4.55.6)\n",
      "Requirement already satisfied: kiwisolver>=1.3.1 in /home/marenz/de/tu-dresden/zih/roco2/.venv/lib/python3.12/site-packages (from matplotlib) (1.4.8)\n",
      "Requirement already satisfied: packaging>=20.0 in /home/marenz/de/tu-dresden/zih/roco2/.venv/lib/python3.12/site-packages (from matplotlib) (24.2)\n",
      "Requirement already satisfied: pillow>=8 in /home/marenz/de/tu-dresden/zih/roco2/.venv/lib/python3.12/site-packages (from matplotlib) (11.1.0)\n",
      "Requirement already satisfied: pyparsing>=2.3.1 in /home/marenz/de/tu-dresden/zih/roco2/.venv/lib/python3.12/site-packages (from matplotlib) (3.2.1)\n",
      "Requirement already satisfied: scipy>=1.6.0 in /home/marenz/de/tu-dresden/zih/roco2/.venv/lib/python3.12/site-packages (from scikit-learn) (1.15.1)\n",
      "Requirement already satisfied: joblib>=1.2.0 in /home/marenz/de/tu-dresden/zih/roco2/.venv/lib/python3.12/site-packages (from scikit-learn) (1.4.2)\n",
      "Requirement already satisfied: threadpoolctl>=3.1.0 in /home/marenz/de/tu-dresden/zih/roco2/.venv/lib/python3.12/site-packages (from scikit-learn) (3.5.0)\n",
      "Requirement already satisfied: six>=1.5 in /home/marenz/de/tu-dresden/zih/roco2/.venv/lib/python3.12/site-packages (from python-dateutil>=2.8.2->pandas) (1.17.0)\n",
      "\n",
      "\u001b[1m[\u001b[0m\u001b[34;49mnotice\u001b[0m\u001b[1;39;49m]\u001b[0m\u001b[39;49m A new release of pip is available: \u001b[0m\u001b[31;49m24.3.1\u001b[0m\u001b[39;49m -> \u001b[0m\u001b[32;49m25.1.1\u001b[0m\n",
      "\u001b[1m[\u001b[0m\u001b[34;49mnotice\u001b[0m\u001b[1;39;49m]\u001b[0m\u001b[39;49m To update, run: \u001b[0m\u001b[32;49mpip install --upgrade pip\u001b[0m\n",
      "Note: you may need to restart the kernel to use updated packages.\n"
     ]
    }
   ],
   "source": [
    "%pip install pandas numpy matplotlib scikit-learn"
   ]
  },
  {
   "cell_type": "code",
   "execution_count": 2,
   "metadata": {
    "collapsed": true
   },
   "outputs": [],
   "source": [
    "import os\n",
    "from glob import glob\n",
    "\n",
    "import pandas as pd\n",
    "import numpy as np\n",
    "import matplotlib as mpl\n",
    "import matplotlib.pyplot as plt\n",
    "\n",
    "from IPython.display import Markdown, display\n",
    "\n",
    "from sklearn.linear_model import Ridge\n",
    "from sklearn.preprocessing import PolynomialFeatures\n",
    "from sklearn.pipeline import make_pipeline\n",
    "\n",
    "import sys\n",
    "sys.path.append('.')\n",
    "from roco2_python import color, marker, plot, Kernel"
   ]
  },
  {
   "cell_type": "code",
   "execution_count": 3,
   "metadata": {
    "collapsed": false
   },
   "outputs": [],
   "source": [
    "%matplotlib inline\n",
    "import pylab\n",
    "pylab.rcParams['figure.figsize'] = (20,10)\n",
    "pylab.rcParams['font.size'] = 20\n",
    "pylab.rcParams['legend.fontsize'] = 20\n",
    "def printmd(string):\n",
    "    display(Markdown(string))"
   ]
  },
  {
   "cell_type": "code",
   "execution_count": 4,
   "metadata": {},
   "outputs": [
    {
     "data": {
      "text/html": [
       "<div>\n",
       "<style scoped>\n",
       "    .dataframe tbody tr th:only-of-type {\n",
       "        vertical-align: middle;\n",
       "    }\n",
       "\n",
       "    .dataframe tbody tr th {\n",
       "        vertical-align: top;\n",
       "    }\n",
       "\n",
       "    .dataframe thead th {\n",
       "        text-align: right;\n",
       "    }\n",
       "</style>\n",
       "<table border=\"1\" class=\"dataframe\">\n",
       "  <thead>\n",
       "    <tr style=\"text-align: right;\">\n",
       "      <th></th>\n",
       "      <th>experiment</th>\n",
       "      <th>frequency</th>\n",
       "      <th>shell</th>\n",
       "      <th>threads</th>\n",
       "      <th>utility</th>\n",
       "      <th>op1</th>\n",
       "      <th>op2</th>\n",
       "      <th>ipc-estimate</th>\n",
       "      <th>metricq</th>\n",
       "      <th>perf-freq</th>\n",
       "      <th>perf-ipc</th>\n",
       "      <th>sysfs-powercap-rapl</th>\n",
       "      <th>sysfs-powercap-rapl/package-0</th>\n",
       "      <th>sysfs-powercap-rapl/package-0-dram</th>\n",
       "      <th>sysfs-powercap-rapl/package-1</th>\n",
       "      <th>sysfs-powercap-rapl/package-1-dram</th>\n",
       "    </tr>\n",
       "  </thead>\n",
       "  <tbody>\n",
       "    <tr>\n",
       "      <th>0</th>\n",
       "      <td>2</td>\n",
       "      <td>0</td>\n",
       "      <td>0</td>\n",
       "      <td>112</td>\n",
       "      <td>1</td>\n",
       "      <td>0</td>\n",
       "      <td>0</td>\n",
       "      <td>0.0</td>\n",
       "      <td>931.787234</td>\n",
       "      <td>0.000000</td>\n",
       "      <td>NaN</td>\n",
       "      <td>263.544052</td>\n",
       "      <td>115.403466</td>\n",
       "      <td>12.445083</td>\n",
       "      <td>124.289206</td>\n",
       "      <td>11.406148</td>\n",
       "    </tr>\n",
       "    <tr>\n",
       "      <th>1</th>\n",
       "      <td>4</td>\n",
       "      <td>0</td>\n",
       "      <td>0</td>\n",
       "      <td>14</td>\n",
       "      <td>623130118</td>\n",
       "      <td>0</td>\n",
       "      <td>0</td>\n",
       "      <td>0.0</td>\n",
       "      <td>936.479167</td>\n",
       "      <td>0.795882</td>\n",
       "      <td>2.671336</td>\n",
       "      <td>267.537526</td>\n",
       "      <td>119.368222</td>\n",
       "      <td>12.438613</td>\n",
       "      <td>124.305848</td>\n",
       "      <td>11.425058</td>\n",
       "    </tr>\n",
       "    <tr>\n",
       "      <th>2</th>\n",
       "      <td>5</td>\n",
       "      <td>0</td>\n",
       "      <td>0</td>\n",
       "      <td>14</td>\n",
       "      <td>170611</td>\n",
       "      <td>0</td>\n",
       "      <td>0</td>\n",
       "      <td>0.0</td>\n",
       "      <td>941.640000</td>\n",
       "      <td>0.795841</td>\n",
       "      <td>5.448679</td>\n",
       "      <td>271.445484</td>\n",
       "      <td>123.298715</td>\n",
       "      <td>12.455073</td>\n",
       "      <td>124.286166</td>\n",
       "      <td>11.405530</td>\n",
       "    </tr>\n",
       "    <tr>\n",
       "      <th>3</th>\n",
       "      <td>8</td>\n",
       "      <td>0</td>\n",
       "      <td>0</td>\n",
       "      <td>14</td>\n",
       "      <td>871</td>\n",
       "      <td>0</td>\n",
       "      <td>0</td>\n",
       "      <td>0.0</td>\n",
       "      <td>944.784314</td>\n",
       "      <td>0.795119</td>\n",
       "      <td>3.476081</td>\n",
       "      <td>275.610356</td>\n",
       "      <td>124.285134</td>\n",
       "      <td>15.588678</td>\n",
       "      <td>124.349246</td>\n",
       "      <td>11.387033</td>\n",
       "    </tr>\n",
       "    <tr>\n",
       "      <th>4</th>\n",
       "      <td>14</td>\n",
       "      <td>0</td>\n",
       "      <td>0</td>\n",
       "      <td>14</td>\n",
       "      <td>630</td>\n",
       "      <td>0</td>\n",
       "      <td>0</td>\n",
       "      <td>0.0</td>\n",
       "      <td>947.800000</td>\n",
       "      <td>0.794856</td>\n",
       "      <td>4.686148</td>\n",
       "      <td>275.962131</td>\n",
       "      <td>124.492109</td>\n",
       "      <td>15.672357</td>\n",
       "      <td>124.427276</td>\n",
       "      <td>11.372399</td>\n",
       "    </tr>\n",
       "    <tr>\n",
       "      <th>...</th>\n",
       "      <td>...</td>\n",
       "      <td>...</td>\n",
       "      <td>...</td>\n",
       "      <td>...</td>\n",
       "      <td>...</td>\n",
       "      <td>...</td>\n",
       "      <td>...</td>\n",
       "      <td>...</td>\n",
       "      <td>...</td>\n",
       "      <td>...</td>\n",
       "      <td>...</td>\n",
       "      <td>...</td>\n",
       "      <td>...</td>\n",
       "      <td>...</td>\n",
       "      <td>...</td>\n",
       "      <td>...</td>\n",
       "    </tr>\n",
       "    <tr>\n",
       "      <th>322</th>\n",
       "      <td>13</td>\n",
       "      <td>0</td>\n",
       "      <td>2</td>\n",
       "      <td>56</td>\n",
       "      <td>1622</td>\n",
       "      <td>0</td>\n",
       "      <td>0</td>\n",
       "      <td>0.0</td>\n",
       "      <td>1360.520000</td>\n",
       "      <td>2.990509</td>\n",
       "      <td>1.803130</td>\n",
       "      <td>627.556693</td>\n",
       "      <td>349.801438</td>\n",
       "      <td>51.702491</td>\n",
       "      <td>214.710917</td>\n",
       "      <td>11.341489</td>\n",
       "    </tr>\n",
       "    <tr>\n",
       "      <th>323</th>\n",
       "      <td>3</td>\n",
       "      <td>0</td>\n",
       "      <td>2</td>\n",
       "      <td>56</td>\n",
       "      <td>83811</td>\n",
       "      <td>0</td>\n",
       "      <td>0</td>\n",
       "      <td>0.0</td>\n",
       "      <td>1266.938776</td>\n",
       "      <td>2.994796</td>\n",
       "      <td>2.121758</td>\n",
       "      <td>548.739923</td>\n",
       "      <td>309.786121</td>\n",
       "      <td>12.856051</td>\n",
       "      <td>214.715563</td>\n",
       "      <td>11.382486</td>\n",
       "    </tr>\n",
       "    <tr>\n",
       "      <th>324</th>\n",
       "      <td>9</td>\n",
       "      <td>0</td>\n",
       "      <td>2</td>\n",
       "      <td>56</td>\n",
       "      <td>83644</td>\n",
       "      <td>0</td>\n",
       "      <td>0</td>\n",
       "      <td>0.0</td>\n",
       "      <td>1264.040816</td>\n",
       "      <td>2.994679</td>\n",
       "      <td>2.112501</td>\n",
       "      <td>545.125306</td>\n",
       "      <td>306.295464</td>\n",
       "      <td>12.729806</td>\n",
       "      <td>214.716935</td>\n",
       "      <td>11.383065</td>\n",
       "    </tr>\n",
       "    <tr>\n",
       "      <th>325</th>\n",
       "      <td>11</td>\n",
       "      <td>0</td>\n",
       "      <td>2</td>\n",
       "      <td>56</td>\n",
       "      <td>18665</td>\n",
       "      <td>0</td>\n",
       "      <td>0</td>\n",
       "      <td>0.0</td>\n",
       "      <td>1214.244898</td>\n",
       "      <td>2.994752</td>\n",
       "      <td>0.064481</td>\n",
       "      <td>504.198055</td>\n",
       "      <td>265.348260</td>\n",
       "      <td>12.802438</td>\n",
       "      <td>214.679955</td>\n",
       "      <td>11.367512</td>\n",
       "    </tr>\n",
       "    <tr>\n",
       "      <th>326</th>\n",
       "      <td>6</td>\n",
       "      <td>0</td>\n",
       "      <td>2</td>\n",
       "      <td>56</td>\n",
       "      <td>76613955</td>\n",
       "      <td>0</td>\n",
       "      <td>0</td>\n",
       "      <td>0.0</td>\n",
       "      <td>1352.306122</td>\n",
       "      <td>1.898166</td>\n",
       "      <td>3.756221</td>\n",
       "      <td>619.611918</td>\n",
       "      <td>349.807146</td>\n",
       "      <td>43.774633</td>\n",
       "      <td>214.694832</td>\n",
       "      <td>11.334973</td>\n",
       "    </tr>\n",
       "  </tbody>\n",
       "</table>\n",
       "<p>327 rows × 16 columns</p>\n",
       "</div>"
      ],
      "text/plain": [
       "     experiment  frequency  shell  threads    utility  op1  op2  ipc-estimate  \\\n",
       "0             2          0      0      112          1    0    0           0.0   \n",
       "1             4          0      0       14  623130118    0    0           0.0   \n",
       "2             5          0      0       14     170611    0    0           0.0   \n",
       "3             8          0      0       14        871    0    0           0.0   \n",
       "4            14          0      0       14        630    0    0           0.0   \n",
       "..          ...        ...    ...      ...        ...  ...  ...           ...   \n",
       "322          13          0      2       56       1622    0    0           0.0   \n",
       "323           3          0      2       56      83811    0    0           0.0   \n",
       "324           9          0      2       56      83644    0    0           0.0   \n",
       "325          11          0      2       56      18665    0    0           0.0   \n",
       "326           6          0      2       56   76613955    0    0           0.0   \n",
       "\n",
       "         metricq  perf-freq  perf-ipc  sysfs-powercap-rapl  \\\n",
       "0     931.787234   0.000000       NaN           263.544052   \n",
       "1     936.479167   0.795882  2.671336           267.537526   \n",
       "2     941.640000   0.795841  5.448679           271.445484   \n",
       "3     944.784314   0.795119  3.476081           275.610356   \n",
       "4     947.800000   0.794856  4.686148           275.962131   \n",
       "..           ...        ...       ...                  ...   \n",
       "322  1360.520000   2.990509  1.803130           627.556693   \n",
       "323  1266.938776   2.994796  2.121758           548.739923   \n",
       "324  1264.040816   2.994679  2.112501           545.125306   \n",
       "325  1214.244898   2.994752  0.064481           504.198055   \n",
       "326  1352.306122   1.898166  3.756221           619.611918   \n",
       "\n",
       "     sysfs-powercap-rapl/package-0  sysfs-powercap-rapl/package-0-dram  \\\n",
       "0                       115.403466                           12.445083   \n",
       "1                       119.368222                           12.438613   \n",
       "2                       123.298715                           12.455073   \n",
       "3                       124.285134                           15.588678   \n",
       "4                       124.492109                           15.672357   \n",
       "..                             ...                                 ...   \n",
       "322                     349.801438                           51.702491   \n",
       "323                     309.786121                           12.856051   \n",
       "324                     306.295464                           12.729806   \n",
       "325                     265.348260                           12.802438   \n",
       "326                     349.807146                           43.774633   \n",
       "\n",
       "     sysfs-powercap-rapl/package-1  sysfs-powercap-rapl/package-1-dram  \n",
       "0                       124.289206                           11.406148  \n",
       "1                       124.305848                           11.425058  \n",
       "2                       124.286166                           11.405530  \n",
       "3                       124.349246                           11.387033  \n",
       "4                       124.427276                           11.372399  \n",
       "..                             ...                                 ...  \n",
       "322                     214.710917                           11.341489  \n",
       "323                     214.715563                           11.382486  \n",
       "324                     214.716935                           11.383065  \n",
       "325                     214.679955                           11.367512  \n",
       "326                     214.694832                           11.334973  \n",
       "\n",
       "[327 rows x 16 columns]"
      ]
     },
     "execution_count": 4,
     "metadata": {},
     "output_type": "execute_result"
    }
   ],
   "source": [
    "filename = './results/2025-07-23.csv'\n",
    "\n",
    "experiments = pd.read_csv(filename, sep=',')\n",
    "experiments"
   ]
  },
  {
   "cell_type": "code",
   "execution_count": 5,
   "metadata": {
    "collapsed": false
   },
   "outputs": [
    {
     "data": {
      "text/markdown": [
       "### Number of experiments in 2025-07-23: 327"
      ],
      "text/plain": [
       "<IPython.core.display.Markdown object>"
      ]
     },
     "metadata": {},
     "output_type": "display_data"
    },
    {
     "data": {
      "text/markdown": [
       "### Using X-RAPL Package + DRAM [W] power metrics: sysfs-powercap-rapl [sysfs-powercap-rapl, sysfs-powercap-rapl/package-0, sysfs-powercap-rapl/package-0-dram, sysfs-powercap-rapl/package-1, sysfs-powercap-rapl/package-1-dram]"
      ],
      "text/plain": [
       "<IPython.core.display.Markdown object>"
      ]
     },
     "metadata": {},
     "output_type": "display_data"
    },
    {
     "data": {
      "text/markdown": [
       "### Using Y-Reference Measurement [W] power metrics: metricq [metricq]"
      ],
      "text/plain": [
       "<IPython.core.display.Markdown object>"
      ]
     },
     "metadata": {},
     "output_type": "display_data"
    },
    {
     "data": {
      "text/markdown": [
       "### Kernels:"
      ],
      "text/plain": [
       "<IPython.core.display.Markdown object>"
      ]
     },
     "metadata": {},
     "output_type": "display_data"
    },
    {
     "data": {
      "text/markdown": [
       " * idle\n",
       " * busywait\n",
       " * compute\n",
       " * memory_read\n",
       " * memory_copy\n",
       " * memory_write\n",
       " * addpd\n",
       " * mulpd\n",
       " * sqrt\n",
       " * firestarter"
      ],
      "text/plain": [
       "<IPython.core.display.Markdown object>"
      ]
     },
     "metadata": {},
     "output_type": "display_data"
    },
    {
     "data": {
      "text/markdown": [
       "### Frequencies:"
      ],
      "text/plain": [
       "<IPython.core.display.Markdown object>"
      ]
     },
     "metadata": {},
     "output_type": "display_data"
    },
    {
     "data": {
      "text/markdown": [
       " * 0"
      ],
      "text/plain": [
       "<IPython.core.display.Markdown object>"
      ]
     },
     "metadata": {},
     "output_type": "display_data"
    },
    {
     "data": {
      "text/markdown": [
       "### Thread counts:"
      ],
      "text/plain": [
       "<IPython.core.display.Markdown object>"
      ]
     },
     "metadata": {},
     "output_type": "display_data"
    },
    {
     "data": {
      "text/markdown": [
       " * 112\n",
       " * 14\n",
       " * 28\n",
       " * 42\n",
       " * 56"
      ],
      "text/plain": [
       "<IPython.core.display.Markdown object>"
      ]
     },
     "metadata": {},
     "output_type": "display_data"
    }
   ],
   "source": [
    "power_patterns = {\n",
    "    'metricq': 'Reference Measurement [W]',\n",
    "    'sysfs-powercap-rapl': 'RAPL Package + DRAM [W]',\n",
    "    'perf-freq': 'Average CPU frequency [GHz]',\n",
    "    'threads': 'Number of threads'\n",
    "}\n",
    "\n",
    "pattern_x = 'sysfs-powercap-rapl'\n",
    "pattern_y = 'metricq'\n",
    "\n",
    "experiments[pattern_x] = list(map(float, experiments[pattern_x]))\n",
    "experiments[pattern_y] = list(map(float, experiments[pattern_y]))\n",
    "\n",
    "experiment_basename = os.path.splitext(os.path.basename(filename))[0]\n",
    "printmd(\"### Number of experiments in {}: {}\".format(experiment_basename, len(experiments)))\n",
    "\n",
    "label_x = power_patterns[pattern_x]\n",
    "label_y = power_patterns[pattern_y]\n",
    "power_x_columns = experiments.filter(regex=pattern_x)\n",
    "power_y_columns = experiments.filter(regex=pattern_y)\n",
    "printmd(\"### Using X-{} power metrics: {} [{}]\" \\\n",
    "        .format(label_x, pattern_x, ', '.join(power_x_columns.columns.values)))\n",
    "printmd(\"### Using Y-{} power metrics: {} [{}]\" \\\n",
    "        .format(label_y, pattern_y, ', '.join(power_y_columns.columns.values)))\n",
    "\n",
    "experiments['kernel'] = experiments.experiment.apply(Kernel)\n",
    "\n",
    "experiments['power_x'] = power_x_columns.sum(1)\n",
    "experiments['power_y'] = power_y_columns.sum(1)\n",
    "experiments['frequency_mhz'] = (experiments['frequency'] / 1e6).astype(int)\n",
    "\n",
    "printmd('### Kernels:')\n",
    "printmd('\\n'.join([' * {}'.format(x) for x in experiments.kernel.unique()]))\n",
    "\n",
    "printmd('### Frequencies:')\n",
    "printmd('\\n'.join([' * {}'.format(x) for x in experiments.frequency_mhz.unique()]))\n",
    "\n",
    "printmd('### Thread counts:')\n",
    "printmd('\\n'.join([' * {}'.format(x) for x in experiments.threads.unique()]))"
   ]
  },
  {
   "cell_type": "code",
   "execution_count": 6,
   "metadata": {
    "collapsed": false
   },
   "outputs": [
    {
     "name": "stdout",
     "output_type": "stream",
     "text": [
      "PDFCROP 1.42, 2023/04/15 - Copyright (c) 2002-2023 by Heiko Oberdiek, Oberdiek Package Support Group.\n",
      "==> 1 page written on `../../thesis/fig/rapl-validation.pdf'.\n"
     ]
    },
    {
     "data": {
      "image/png": "[encoded data removed]",
      "text/plain": [
       "<Figure size 1000x600 with 1 Axes>"
      ]
     },
     "metadata": {},
     "output_type": "display_data"
    }
   ],
   "source": [
    "degree = 2\n",
    "\n",
    "model = make_pipeline(PolynomialFeatures(degree), Ridge())\n",
    "xses = experiments.power_x.to_numpy().reshape(-1, 1)\n",
    "yses = experiments.power_y.to_numpy().reshape(-1, 1)\n",
    "fit = model.fit(xses, yses)\n",
    "names = {\n",
    "    1: 'linear',\n",
    "    2: 'quadratic',\n",
    "    3: 'cubic'\n",
    "}\n",
    "model_name = names[degree]\n",
    "params = mpl.rc_params()\n",
    "params['font.size'] = 13\n",
    "params['legend.fontsize'] = params['font.size']\n",
    "params['figure.figsize'] = (10,6)\n",
    "\n",
    "with mpl.rc_context(params):\n",
    "    for kernel, k_group in experiments.groupby('kernel'):\n",
    "        plt.plot(k_group.power_x, k_group.power_y, color=kernel.color, marker=kernel.marker, ls='', label=kernel.name)\n",
    "    x_min, x_max = plt.gca().get_xlim()\n",
    "    x_plot = np.linspace(x_min, x_max, 1000)\n",
    "    fit_y_vals = model.predict(x_plot.reshape(-1,1))\n",
    "    offset_in_percent = 1\n",
    "    fit_y_vals_minus_percent = list(map(lambda x: (1 - offset_in_percent / 100) * x, model.predict(x_plot.reshape(-1,1))))\n",
    "    fit_y_vals_plus_percent = list(map(lambda x: (1 + offset_in_percent / 100) * x, model.predict(x_plot.reshape(-1,1))))\n",
    "    plt.plot(x_plot, fit_y_vals_minus_percent, ls=':', color='black', label='{} fit - {}%'.format(model_name, offset_in_percent))\n",
    "    plt.plot(x_plot, fit_y_vals, ls=':', color='black', label='{} fit'.format(model_name))\n",
    "    plt.plot(x_plot, fit_y_vals_plus_percent, ls=':', color='black', label='{} fit + {}%'.format(model_name, offset_in_percent))\n",
    "    plt.xlabel(label_x)\n",
    "    plt.ylabel(label_y)\n",
    "    # plot.ideal(x_max, ls='-', color='gray', label='identity')\n",
    "\n",
    "    # plt.gca().set_xlim(xmin=200)\n",
    "    # plt.gca().set_ylim(ymin=750)\n",
    "    plt.legend(loc='best', numpoints=1, fontsize=params['font.size'], ncol=2)\n",
    "    plot.make_pdf('../../thesis/fig/rapl-validation')\n",
    "\n",
    "    plt.show()\n",
    "\n",
    "# fit(degree=2)"
   ]
  },
  {
   "cell_type": "code",
   "execution_count": null,
   "metadata": {
    "collapsed": true
   },
   "outputs": [],
   "source": []
  }
 ],
 "metadata": {
  "kernelspec": {
   "display_name": ".venv",
   "language": "python",
   "name": "python3"
  },
  "language_info": {
   "codemirror_mode": {
    "name": "ipython",
    "version": 3
   },
   "file_extension": ".py",
   "mimetype": "text/x-python",
   "name": "python",
   "nbconvert_exporter": "python",
   "pygments_lexer": "ipython3",
   "version": "3.12.3"
  },
  "widgets": {
   "state": {
    "56fbe931f180499687d1325f12002e74": {
     "views": [
      {
       "cell_index": 3
      }
     ]
    },
    "b098bdd995d14d59b50ec5f846c4ab21": {
     "views": [
      {
       "cell_index": 4
      }
     ]
    }
   },
   "version": "1.2.0"
  }
 },
 "nbformat": 4,
 "nbformat_minor": 0
}
