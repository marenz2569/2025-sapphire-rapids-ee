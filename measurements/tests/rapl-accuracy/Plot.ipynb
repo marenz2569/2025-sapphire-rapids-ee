{
 "cells": [
  {
   "cell_type": "code",
   "execution_count": null,
   "metadata": {
    "collapsed": true
   },
   "outputs": [],
   "source": [
    "import pandas as pd\n",
    "import numpy as np\n",
    "import matplotlib.pyplot as plt\n",
    "\n",
    "from IPython.display import Markdown, display\n",
    "\n",
    "from sklearn.linear_model import Ridge\n",
    "from sklearn.preprocessing import PolynomialFeatures\n",
    "from sklearn.pipeline import make_pipeline\n",
    "\n",
    "from experiment_utils import Experiment, ExperimentFilter, Plotting\n",
    "from experiment_utils.roco2_python import Kernel"
   ]
  },
  {
   "cell_type": "code",
   "execution_count": null,
   "metadata": {
    "collapsed": false
   },
   "outputs": [],
   "source": [
    "def printmd(string):\n",
    "    display(Markdown(string))"
   ]
  },
  {
   "cell_type": "code",
   "execution_count": null,
   "metadata": {},
   "outputs": [],
   "source": [
    "experiments = Experiment.get_experiments()\n",
    "experiments = list(filter(ExperimentFilter.by_experiment_name('rapl-accuracy'), experiments))\n",
    "experiment = ExperimentFilter.get_latest(experiments)\n",
    "experiment"
   ]
  },
  {
   "cell_type": "code",
   "execution_count": null,
   "metadata": {},
   "outputs": [],
   "source": [
    "data = pd.read_csv(experiment.path / 'results.csv', sep=',')"
   ]
  },
  {
   "cell_type": "code",
   "execution_count": null,
   "metadata": {},
   "outputs": [],
   "source": [
    "data"
   ]
  },
  {
   "cell_type": "code",
   "execution_count": null,
   "metadata": {},
   "outputs": [],
   "source": [
    "# @arg rapl_metric The filter of the RAPL metric that will be plotted\n",
    "# @arg rapl_label The label of the RAPL metric\n",
    "# @arg plot_name The name of the plot\n",
    "# @arg disable_fit Set to true to disable adding the fit to the plot\n",
    "# @arg fit_kernel_filter Function to select which kernels are used for the fit\n",
    "def plot(rapl_metric: str, rapl_label: str, plot_name: str, disable_fit: bool, fit_kernel_filter):\n",
    "    power_patterns = {\n",
    "        'metricq': 'Reference Measurement [W]',\n",
    "        'perf-freq': 'Average CPU frequency [GHz]',\n",
    "        'threads': 'Number of threads'\n",
    "    }\n",
    "\n",
    "    pattern_x = 'metricq'\n",
    "    pattern_y = rapl_metric\n",
    "\n",
    "    printmd(\"### Number of experiments: {}\".format(len(data)))\n",
    "\n",
    "    label_x = power_patterns[pattern_x]\n",
    "    label_y = rapl_label\n",
    "    power_x_columns = data.filter(regex=pattern_x)\n",
    "    power_y_columns = data.filter(regex=pattern_y)\n",
    "    printmd(\"### Using X-{} power metrics: {} [{}]\" \\\n",
    "            .format(label_x, pattern_x, ', '.join(power_x_columns.columns.values)))\n",
    "    printmd(\"### Using Y-{} power metrics: {} [{}]\" \\\n",
    "            .format(label_y, pattern_y, ', '.join(power_y_columns.columns.values)))\n",
    "\n",
    "    data['kernel'] = data.experiment.apply(Kernel)\n",
    "\n",
    "    data['power_x'] = power_x_columns.sum(1)\n",
    "    data['power_y'] = power_y_columns.sum(1)\n",
    "\n",
    "    printmd('### Kernels:')\n",
    "    printmd('\\n'.join([' * {}'.format(x) for x in data.kernel.unique()]))\n",
    "\n",
    "    printmd('### Frequencies:')\n",
    "    printmd('\\n'.join([' * {}'.format(x) for x in data['perf-freq'].unique()]))\n",
    "\n",
    "    printmd('### Thread counts:')\n",
    "    printmd('\\n'.join([' * {}'.format(x) for x in data.threads.unique()]))\n",
    "\n",
    "    degree = 2\n",
    "\n",
    "    model = make_pipeline(PolynomialFeatures(degree), Ridge())\n",
    "    model_data = data.loc[fit_kernel_filter]\n",
    "    xses = model_data.power_x.to_numpy().reshape(-1, 1)\n",
    "    yses = model_data.power_y.to_numpy().reshape(-1, 1)\n",
    "    fit = model.fit(xses, yses)\n",
    "    names = {\n",
    "    1: 'linear',\n",
    "    2: 'quadratic',\n",
    "    3: 'cubic'\n",
    "    }\n",
    "    model_name = names[degree]\n",
    "\n",
    "    plt.rcParams['figure.figsize'] = 10,6\n",
    "    plt.rcParams['font.size'] = 13\n",
    "    plt.rcParams['legend.fontsize'] = plt.rcParams['font.size']\n",
    "\n",
    "    for kernel, k_group in data.groupby('kernel'):\n",
    "        plt.plot(k_group.power_x, k_group.power_y, color=kernel.color, marker=kernel.marker, ls='', label=kernel.name)\n",
    "    if not disable_fit:\n",
    "        x_min, x_max = plt.gca().get_xlim()\n",
    "        x_plot = np.linspace(x_min, x_max, 1000)\n",
    "        fit_y_vals = model.predict(x_plot.reshape(-1,1))\n",
    "        offset_in_percent = 1\n",
    "        x_plot_minus_percent = list(map(lambda x: (1 - offset_in_percent / 100) * x, x_plot))\n",
    "        x_plot_plus_percent = list(map(lambda x: (1 + offset_in_percent / 100) * x, x_plot))\n",
    "        plt.plot(x_plot_minus_percent, fit_y_vals, ls=':', color='black', label='{} fit - {}%'.format(model_name, offset_in_percent))\n",
    "        plt.plot(x_plot, fit_y_vals, ls=':', color='black', label='{} fit'.format(model_name))\n",
    "        plt.plot(x_plot_plus_percent, fit_y_vals, ls=':', color='black', label='{} fit + {}%'.format(model_name, offset_in_percent))\n",
    "    plt.xlabel(label_x)\n",
    "    plt.ylabel(label_y)\n",
    "    # plot.ideal(x_max, ls='-', color='gray', label='identity')\n",
    "\n",
    "    # plt.gca().set_xlim(xmin=200)\n",
    "    # plt.gca().set_ylim(ymin=750)\n",
    "    plt.legend(loc='best', numpoints=1, fontsize=plt.rcParams['font.size'], ncol=2)\n",
    "\n",
    "    Plotting.savefig(experiment, f'{plot_name}.pdf', annotations_x_offset=0.05, annotations_y_offset=0.0125, annotations_y_spacing=0.025)\n",
    "\n",
    "    plt.show()"
   ]
  },
  {
   "cell_type": "code",
   "execution_count": null,
   "metadata": {},
   "outputs": [],
   "source": [
    "def true_filter(_row):\n",
    "    return _row.index\n",
    "\n",
    "def no_memory_filter(row):\n",
    "    kernel = row['kernel']\n",
    "    return (kernel == Kernel.idle) | (kernel == Kernel.busywait) | (kernel == Kernel.compute) | (kernel == Kernel.addpd) | (kernel == Kernel.mulpd) | (kernel == Kernel.sqrt)"
   ]
  },
  {
   "cell_type": "code",
   "execution_count": null,
   "metadata": {},
   "outputs": [],
   "source": [
    "# The '/' is important, otherwise 'sysfs-powercap-rapl' metrics gets added to the individual submetrics because of the regex\n",
    "plot(rapl_metric='sysfs-powercap-rapl/', rapl_label='RAPL Package + DRAM [W]', plot_name='rapl-accuracy', disable_fit=False, fit_kernel_filter=true_filter)\n",
    "plot(rapl_metric='sysfs-powercap-rapl/package-[0-9]+$', rapl_label='RAPL Package [W]', plot_name='rapl-accuracy-package', disable_fit=False, fit_kernel_filter=no_memory_filter)\n",
    "plot(rapl_metric='sysfs-powercap-rapl/package-[0-9]+-dram', rapl_label='RAPL DRAM [W]', plot_name='rapl-accuracy-dram', disable_fit=True, fit_kernel_filter=true_filter)"
   ]
  }
 ],
 "metadata": {
  "kernelspec": {
   "display_name": "Python 3 (ipykernel)",
   "language": "python",
   "name": "python3"
  },
  "language_info": {
   "codemirror_mode": {
    "name": "ipython",
    "version": 3
   },
   "file_extension": ".py",
   "mimetype": "text/x-python",
   "name": "python",
   "nbconvert_exporter": "python",
   "pygments_lexer": "ipython3",
   "version": "3.12.11"
  },
  "widgets": {
   "state": {
    "56fbe931f180499687d1325f12002e74": {
     "views": [
      {
       "cell_index": 3
      }
     ]
    },
    "b098bdd995d14d59b50ec5f846c4ab21": {
     "views": [
      {
       "cell_index": 4
      }
     ]
    }
   },
   "version": "1.2.0"
  }
 },
 "nbformat": 4,
 "nbformat_minor": 0
}
