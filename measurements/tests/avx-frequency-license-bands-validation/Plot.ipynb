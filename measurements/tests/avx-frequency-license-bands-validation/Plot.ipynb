{
 "cells": [
  {
   "cell_type": "code",
   "execution_count": null,
   "metadata": {},
   "outputs": [],
   "source": [
    "import pandas as pd\n",
    "import matplotlib.pyplot as plt\n",
    "import glob\n",
    "from pathlib import Path\n",
    "import seaborn as sns\n",
    "from experiment_utils import Experiment, ExperimentFilter, Plotting"
   ]
  },
  {
   "cell_type": "code",
   "execution_count": null,
   "metadata": {},
   "outputs": [],
   "source": [
    "experiments = Experiment.get_experiments()\n",
    "experiments = list(filter(ExperimentFilter.by_experiment_name('avx-frequency-license-bands-validation'), experiments))\n",
    "experiment = ExperimentFilter.get_latest(experiments)\n",
    "experiment"
   ]
  },
  {
   "cell_type": "code",
   "execution_count": null,
   "metadata": {},
   "outputs": [],
   "source": [
    "variants = glob.glob(f'{experiment.path}/lic*')\n",
    "variants"
   ]
  },
  {
   "cell_type": "code",
   "execution_count": null,
   "metadata": {},
   "outputs": [],
   "source": [
    "def read_from_lic(folder: str) -> pd.DataFrame:\n",
    "    \"\"\"\n",
    "    folder: The folder that contains the measurements for the different number of cores.\n",
    "    \"\"\"\n",
    "    df = pd.DataFrame()\n",
    "\n",
    "    for file in glob.glob(f'{folder}/*'):\n",
    "        num_cores = int(Path(file).stem) + 1\n",
    "        read_df = pd.read_csv(file)\n",
    "        pd.read_csv\n",
    "        for _index, row in read_df.iterrows():\n",
    "            metric = row['metric']\n",
    "            value = row['average']\n",
    "            if (metric == 'perf-freq'):\n",
    "                value *= num_cores\n",
    "            df = pd.concat([df, pd.DataFrame([{'metric': metric, 'value': value, 'core_count': num_cores}])])\n",
    "\n",
    "    return df"
   ]
  },
  {
   "cell_type": "code",
   "execution_count": null,
   "metadata": {},
   "outputs": [],
   "source": [
    "data = pd.DataFrame()\n",
    "\n",
    "for variant in variants:\n",
    "    row = read_from_lic(variant)\n",
    "    license = variant.split('/')[-1]\n",
    "    row['license'] = license\n",
    "    data = pd.concat([data, row])\n",
    "\n",
    "data"
   ]
  },
  {
   "cell_type": "code",
   "execution_count": null,
   "metadata": {},
   "outputs": [],
   "source": [
    "license_level_to_name = {\n",
    "    'lic0': 'SSE',\n",
    "    'lic1': 'AVX2',\n",
    "    'lic2': 'AVX512',\n",
    "    'lic3': 'AMX'\n",
    "}\n",
    "\n",
    "LIC_NAME = 'Frequency class'\n",
    "CORE_COUNT = 'Number of active cores'\n",
    "MAX_TURBO_FREQ = 'Maximum opportunistic turbo frequency [MHz]'\n",
    "POWER_WATT = 'Power draw of package 0 [W]'\n",
    "\n",
    "data[LIC_NAME] = data['license'].apply(lambda v: license_level_to_name[v])\n",
    "data[CORE_COUNT] = data['core_count']\n",
    "\n",
    "data[MAX_TURBO_FREQ] = data['value'] * 1000\n",
    "data[POWER_WATT] = data['value']"
   ]
  },
  {
   "cell_type": "code",
   "execution_count": null,
   "metadata": {},
   "outputs": [],
   "source": [
    "hue_order=['AMX', 'AVX512', 'AVX2', 'SSE']"
   ]
  },
  {
   "cell_type": "code",
   "execution_count": null,
   "metadata": {},
   "outputs": [],
   "source": [
    "ax = sns.scatterplot(data=data[data['metric'] == 'perf-freq'], x=CORE_COUNT, y=MAX_TURBO_FREQ, hue=LIC_NAME, linewidth=1.5, marker='o', hue_order=hue_order)\n",
    "plt.xticks(rotation=45)\n",
    "\n",
    "buckets = [28,34,40,44,48,50,54,56]\n",
    "\n",
    "for i in buckets:\n",
    "    plt.axvline(x=i, color='black', dashes=[2], linewidth=1)\n",
    "\n",
    "# ax.set_ylim(0, 4000)\n",
    "ax.set_xlim(0, 58)\n",
    "ax.set_xticks([0] + buckets)\n",
    "\n",
    "# plt.xticks(rotation=45)\n",
    "ax.tick_params(axis='x', pad=0)\n",
    "\n",
    "Plotting.savefig(experiment, 'validate-avx-frequency-license-bands.pdf', annotations_y_offset=0, annotations_y_spacing=0.025)"
   ]
  }
 ],
 "metadata": {
  "kernelspec": {
   "display_name": "Python 3 (ipykernel)",
   "language": "python",
   "name": "python3"
  },
  "language_info": {
   "codemirror_mode": {
    "name": "ipython",
    "version": 3
   },
   "file_extension": ".py",
   "mimetype": "text/x-python",
   "name": "python",
   "nbconvert_exporter": "python",
   "pygments_lexer": "ipython3",
   "version": "3.12.11"
  }
 },
 "nbformat": 4,
 "nbformat_minor": 2
}
