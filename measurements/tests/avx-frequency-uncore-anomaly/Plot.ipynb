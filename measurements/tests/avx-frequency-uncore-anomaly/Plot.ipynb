{
 "cells": [
  {
   "cell_type": "code",
   "execution_count": null,
   "metadata": {},
   "outputs": [],
   "source": [
    "import pandas as pd\n",
    "import glob\n",
    "from pathlib import Path\n",
    "import seaborn as sns\n",
    "import os\n",
    "from experiment_utils import Experiment, ExperimentFilter, Plotting"
   ]
  },
  {
   "cell_type": "code",
   "execution_count": null,
   "metadata": {},
   "outputs": [],
   "source": [
    "experiments = Experiment.get_experiments()\n",
    "experiments = list(filter(ExperimentFilter.by_experiment_name('avx-frequency-uncore-anomaly'), experiments))\n",
    "experiment = ExperimentFilter.get_latest(experiments)\n",
    "experiment"
   ]
  },
  {
   "cell_type": "code",
   "execution_count": null,
   "metadata": {},
   "outputs": [],
   "source": [
    "levels = glob.glob(f'{experiment.path}/*')\n",
    "levels"
   ]
  },
  {
   "cell_type": "code",
   "execution_count": null,
   "metadata": {},
   "outputs": [],
   "source": [
    "def read_firestarter_from_lic(folder: str) -> pd.DataFrame:\n",
    "    \"\"\"\n",
    "    folder: The folder that contains the measurements for the different number of cores.\n",
    "    \"\"\"\n",
    "    df = pd.DataFrame()\n",
    "\n",
    "    for file in glob.glob(f'{folder}/firestarter-*'):\n",
    "        _name, index = Path(file).stem.split('-')\n",
    "        index = int(index)\n",
    "\n",
    "        read_df = pd.read_csv(file)\n",
    "\n",
    "        for _index, row in read_df.iterrows():\n",
    "            metric = row['metric']\n",
    "            value = row['average']\n",
    "            df = pd.concat([df, pd.DataFrame([{'metric': metric, 'value': value, 'index': index}])])\n",
    "\n",
    "    return df"
   ]
  },
  {
   "cell_type": "code",
   "execution_count": null,
   "metadata": {},
   "outputs": [],
   "source": [
    "def read_uncore_from_lic(folder: str) -> pd.DataFrame:\n",
    "    \"\"\"\n",
    "    folder: The folder that contains the measurements for the different number of cores.\n",
    "    \"\"\"\n",
    "    df = pd.DataFrame()\n",
    "\n",
    "    for file in glob.glob(f'{folder}/uncore-freq-*'):\n",
    "        _name, _name2, index = Path(file).stem.split('-')\n",
    "        index = int(index)\n",
    "\n",
    "        read_df = pd.read_csv(file)\n",
    "\n",
    "        for _index, row in read_df.iterrows():\n",
    "            metric = row['name']\n",
    "            value = row['average']\n",
    "            df = pd.concat([df, pd.DataFrame([{'metric': metric, 'value': value, 'index': index}])])\n",
    "\n",
    "    return df"
   ]
  },
  {
   "cell_type": "code",
   "execution_count": null,
   "metadata": {},
   "outputs": [],
   "source": [
    "all_data = pd.DataFrame()\n",
    "\n",
    "for level in levels:\n",
    "    lic_data = read_firestarter_from_lic(level)\n",
    "    lic_data['level'] = os.path.basename(level)\n",
    "    all_data = pd.concat([all_data, lic_data])\n",
    "\n",
    "    lic_data = read_uncore_from_lic(level)\n",
    "    lic_data['level'] = os.path.basename(level)\n",
    "    all_data = pd.concat([all_data, lic_data])\n",
    "\n",
    "all_data"
   ]
  },
  {
   "cell_type": "code",
   "execution_count": null,
   "metadata": {},
   "outputs": [],
   "source": [
    "license_level_to_name = {\n",
    "    'lic0': 'SSE',\n",
    "    'lic1': 'AVX2',\n",
    "    'lic2': 'AVX512',\n",
    "    'lic3': 'AMX'\n",
    "}\n",
    "\n",
    "PERF_IPC = 'IPC of the compute kernel'\n",
    "MAX_TURBO_FREQ = 'Maximum opportunistic turbo frequency [GHz]'\n",
    "POWER_WATT = 'Power draw of package 0 [W]'\n",
    "UNCORE_FREQ = 'Uncore frequency of package 0 [GHz]'\n",
    "\n",
    "metric_name_map = {\n",
    "    'perf-ipc': PERF_IPC,\n",
    "    'perf-freq': MAX_TURBO_FREQ,\n",
    "    'ipc-estimate': 'ipc-estimate',\n",
    "    'package_00_die_00': UNCORE_FREQ,\n",
    "    'package_01_die_00': UNCORE_FREQ,\n",
    "    'sysfs-powercap-rapl': 'sysfs-powercap-rapl',\n",
    "    'sysfs-powercap-rapl/package-0': POWER_WATT,\n",
    "    'sysfs-powercap-rapl/package-0-dram': 'sysfs-powercap-rapl/package-0-dram',\n",
    "    'sysfs-powercap-rapl/package-1': 'sysfs-powercap-rapl/package-1',\n",
    "    'sysfs-powercap-rapl/package-1-dram': 'sysfs-powercap-rapl/package-1-dram',\n",
    "}\n",
    "\n",
    "all_data_copy = all_data.copy()\n",
    "\n",
    "all_data_copy['level'] = all_data_copy['level'].apply(lambda v: license_level_to_name[v])\n",
    "all_data_copy['metric'] = all_data_copy['metric'].apply(lambda v: metric_name_map[v])\n",
    "\n",
    "all_data_pivot = all_data_copy.pivot_table('value', ['index', 'level'], 'metric')\n",
    "\n",
    "all_data_pivot[UNCORE_FREQ] = all_data_pivot[UNCORE_FREQ] / 1e6\n",
    "\n",
    "all_data_pivot"
   ]
  },
  {
   "cell_type": "code",
   "execution_count": null,
   "metadata": {},
   "outputs": [],
   "source": [
    "PERFORMANCE = 'Performance [G Instructions/s]'\n",
    "PERFORMANCE_DEVIATION = 'Deviation from mean performance [%]'\n",
    "ENERGY_EFFICIENCY = 'Energy Efficiency [G Instructions/Watt/s]'\n",
    "ENERGY_EFFICIENCY_DEVIATION = 'Deviation from maximum energy efficiency [%]'\n",
    "\n",
    "all_data_pivot[PERFORMANCE] = all_data_pivot[PERF_IPC] * all_data_pivot[MAX_TURBO_FREQ]\n",
    "all_data_pivot[ENERGY_EFFICIENCY] = all_data_pivot[PERFORMANCE] / all_data_pivot[POWER_WATT]"
   ]
  },
  {
   "cell_type": "code",
   "execution_count": null,
   "metadata": {},
   "outputs": [],
   "source": [
    "df_performance_deviation = all_data_pivot[PERFORMANCE].reset_index()\n",
    "\n",
    "for key, value in df_performance_deviation.groupby(\"level\"):\n",
    "    mean = value[PERFORMANCE].mean()\n",
    "    df_performance_deviation.loc[value.index, [PERFORMANCE_DEVIATION]] = (value[PERFORMANCE] / mean - 1) * 100\n",
    "\n",
    "print(df_performance_deviation)"
   ]
  },
  {
   "cell_type": "code",
   "execution_count": null,
   "metadata": {},
   "outputs": [],
   "source": [
    "hue_order=['AMX', 'AVX512', 'AVX2', 'SSE']"
   ]
  },
  {
   "cell_type": "code",
   "execution_count": null,
   "metadata": {},
   "outputs": [],
   "source": [
    "ax = sns.ecdfplot(data=all_data_pivot[POWER_WATT].reset_index(), x=POWER_WATT, hue='level', hue_order=hue_order)\n",
    "Plotting.savefig(experiment, 'package-power-ecdf.pdf', annotations_y_offset=0, annotations_y_spacing=0.025)"
   ]
  },
  {
   "cell_type": "code",
   "execution_count": null,
   "metadata": {},
   "outputs": [],
   "source": [
    "ax = sns.ecdfplot(data=all_data_pivot[PERF_IPC].reset_index(), x=PERF_IPC, hue='level', hue_order=hue_order)\n",
    "Plotting.savefig(experiment, 'perf-ipc-ecdf.pdf', annotations_y_offset=0, annotations_y_spacing=0.025)"
   ]
  },
  {
   "cell_type": "code",
   "execution_count": null,
   "metadata": {},
   "outputs": [],
   "source": [
    "ax = sns.ecdfplot(data=all_data_pivot[MAX_TURBO_FREQ].reset_index(), x=MAX_TURBO_FREQ, hue='level', hue_order=hue_order)\n",
    "Plotting.savefig(experiment, 'perf-freq-ecdf.pdf', annotations_y_offset=0, annotations_y_spacing=0.025)"
   ]
  },
  {
   "cell_type": "code",
   "execution_count": null,
   "metadata": {},
   "outputs": [],
   "source": [
    "ax = sns.ecdfplot(data=all_data_pivot[UNCORE_FREQ].reset_index(), x=UNCORE_FREQ, hue='level', hue_order=hue_order)\n",
    "Plotting.savefig(experiment, 'uncore-freq-ecdf.pdf', annotations_y_offset=0, annotations_y_spacing=0.025)"
   ]
  },
  {
   "cell_type": "code",
   "execution_count": null,
   "metadata": {},
   "outputs": [],
   "source": [
    "df_performance_deviation = all_data_pivot[PERFORMANCE].reset_index()\n",
    "\n",
    "for key, value in df_performance_deviation.groupby(\"level\"):\n",
    "    mean = value[PERFORMANCE].mean()\n",
    "    df_performance_deviation.loc[value.index, [PERFORMANCE_DEVIATION]] = (value[PERFORMANCE] / mean - 1) * 100\n",
    "\n",
    "print(df_performance_deviation)"
   ]
  },
  {
   "cell_type": "code",
   "execution_count": null,
   "metadata": {},
   "outputs": [],
   "source": [
    "ax = sns.ecdfplot(data=df_performance_deviation, x=PERFORMANCE_DEVIATION, hue='level', hue_order=hue_order)\n",
    "Plotting.savefig(experiment, 'performance-ecdf.pdf', annotations_y_offset=0, annotations_y_spacing=0.025)"
   ]
  },
  {
   "cell_type": "code",
   "execution_count": null,
   "metadata": {},
   "outputs": [],
   "source": [
    "df_energy_efficiency_deviation = all_data_pivot.reset_index()\n",
    "\n",
    "for key, value in df_energy_efficiency_deviation.groupby(\"level\"):\n",
    "    max = value[ENERGY_EFFICIENCY].max()\n",
    "    df_energy_efficiency_deviation.loc[value.index, [ENERGY_EFFICIENCY_DEVIATION]] = (value[ENERGY_EFFICIENCY] / max - 1)  * 100\n",
    "\n",
    "print(df_energy_efficiency_deviation)"
   ]
  },
  {
   "cell_type": "code",
   "execution_count": null,
   "metadata": {},
   "outputs": [],
   "source": [
    "ax = sns.ecdfplot(data=df_energy_efficiency_deviation, x=ENERGY_EFFICIENCY_DEVIATION, hue='level', hue_order=hue_order)\n",
    "Plotting.savefig(experiment, 'energy-efficiency-ecdf.pdf', annotations_y_offset=0, annotations_y_spacing=0.025)"
   ]
  }
 ],
 "metadata": {
  "kernelspec": {
   "display_name": ".venv",
   "language": "python",
   "name": "python3"
  },
  "language_info": {
   "codemirror_mode": {
    "name": "ipython",
    "version": 3
   },
   "file_extension": ".py",
   "mimetype": "text/x-python",
   "name": "python",
   "nbconvert_exporter": "python",
   "pygments_lexer": "ipython3",
   "version": "3.12.3"
  }
 },
 "nbformat": 4,
 "nbformat_minor": 2
}
