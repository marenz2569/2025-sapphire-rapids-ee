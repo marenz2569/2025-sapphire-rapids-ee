{
 "cells": [
  {
   "cell_type": "code",
   "execution_count": null,
   "metadata": {},
   "outputs": [],
   "source": [
    "import pandas as pd\n",
    "import matplotlib.pyplot as plt\n",
    "import os\n",
    "import seaborn as sns\n",
    "import numpy as np\n",
    "import glob\n",
    "from pathlib import Path\n",
    "from experiment_utils import Experiment, ExperimentFilter, Plotting"
   ]
  },
  {
   "cell_type": "code",
   "execution_count": null,
   "metadata": {},
   "outputs": [],
   "source": [
    "experiments = Experiment.get_experiments()\n",
    "experiments = list(filter(ExperimentFilter.by_experiment_name('ftalat'), experiments))\n",
    "experiment = ExperimentFilter.get_latest(experiments)\n",
    "experiment"
   ]
  },
  {
   "cell_type": "code",
   "execution_count": null,
   "metadata": {},
   "outputs": [],
   "source": [
    "# us -> MHz\n",
    "reference_frequency_per_time_unit = 2.0E3\n",
    "TRANSITION_LATENCY = \"Transition latency [µs]\"\n",
    "WAIT_LATENCY = \"Time since last frequency change [us]\"\n",
    "WAIT_LATENCY_BETWEEN_RUNS = \"Time between detection of last frequency\\nchange from source to target frequency [µs]\"\n",
    "SOURCE_FREQUENCY = \"Source Frequency [GHz]\"\n",
    "TARGET_FREQUENCY = \"Target Frequency [GHz]\"\n",
    "FREQ_TRANSITION = \"Frequency transition [GHz]\""
   ]
  },
  {
   "cell_type": "code",
   "execution_count": null,
   "metadata": {},
   "outputs": [],
   "source": [
    "processed_data = pd.DataFrame()\n",
    "all_data = pd.DataFrame()\n",
    "\n",
    "for file in glob.glob(f'{experiment.path}/*.txt'):\n",
    "    start, target = Path(file).stem.split('_')\n",
    "    start_ghz = int(start) / 1e6\n",
    "    target_ghz = int(target) / 1e6\n",
    "\n",
    "    # filter out too high turbo frequencies\n",
    "    if target_ghz > 2.9 or start_ghz > 2.9:\n",
    "        continue\n",
    "\n",
    "    try:\n",
    "        data = pd.read_csv(file, sep='\\t',comment='#')\n",
    "        print(data)\n",
    "    except:\n",
    "        continue\n",
    "    data[TRANSITION_LATENCY] = data[\"Change time (with write) [cycles]\"] / reference_frequency_per_time_unit\n",
    "    data[WAIT_LATENCY] = data[\"Time since last frequency change [cycles]\"] / reference_frequency_per_time_unit\n",
    "    data[\"Change time [us]\"] = data[\"Change time [cycles]\"] / reference_frequency_per_time_unit\n",
    "    data[\"Change time (with write) [us]\"] = data[\"Change time (with write) [cycles]\"] / reference_frequency_per_time_unit\n",
    "    data[\"Write cost [us]\"] = data[\"Write cost [cycles]\"] / reference_frequency_per_time_unit\n",
    "    data[\"second_change [us]\"] = (data[\"Time since last frequency change request [cycles]\"] - data[\"Time since last frequency change [cycles]\"] + data[\"Change time (with write) [cycles]\"]) / reference_frequency_per_time_unit\n",
    "    data[\"second_validation_interval [us]\"] = (data[\"Time since last frequency change [cycles]\"] - data[\"Change time (with write) [cycles]\"]) / reference_frequency_per_time_unit - data[\"Wait time [us]\"]\n",
    "    data[WAIT_LATENCY_BETWEEN_RUNS] = data[\"Detected frequency change timestamp [cycles]\"].diff() / reference_frequency_per_time_unit\n",
    "\n",
    "    # filter invalid measurement values\n",
    "    data=data[data[TRANSITION_LATENCY]>0]\n",
    "    # discard the first row\n",
    "    data = data.iloc[1:]\n",
    "\n",
    "    processed_data = pd.concat([processed_data, pd.DataFrame([\n",
    "        {'valids': len(data),\n",
    "         'median_<1ms': np.median(data[data[WAIT_LATENCY] < 1000][TRANSITION_LATENCY].quantile(0.5)),\n",
    "         'median_>1ms': np.median(data[data[WAIT_LATENCY] > 1000][TRANSITION_LATENCY].quantile(0.5)),\n",
    "         'median': np.median(data[TRANSITION_LATENCY].quantile(0.5)),\n",
    "         '1percentQuantile': data[TRANSITION_LATENCY].quantile(0.01),\n",
    "         '95percentQuantile': data[TRANSITION_LATENCY].quantile(0.95),\n",
    "         '99percentQuantile': data[TRANSITION_LATENCY].quantile(0.99),\n",
    "         SOURCE_FREQUENCY: start_ghz,\n",
    "         TARGET_FREQUENCY: target_ghz}\n",
    "    ])])\n",
    "\n",
    "    data[SOURCE_FREQUENCY] = start_ghz\n",
    "    data[TARGET_FREQUENCY] = target_ghz\n",
    "    data[FREQ_TRANSITION] = f\"{start_ghz}GHz -> {target_ghz}GHz\"\n",
    "    all_data = pd.concat([all_data, data])\n",
    "\n",
    "processed_data"
   ]
  },
  {
   "cell_type": "code",
   "execution_count": null,
   "metadata": {},
   "outputs": [],
   "source": [
    "all_data.reset_index()\n",
    "all_data"
   ]
  },
  {
   "cell_type": "code",
   "execution_count": null,
   "metadata": {},
   "outputs": [],
   "source": [
    "all_data_random_sample = all_data.sample(frac=.10)\n",
    "all_data_random_sample"
   ]
  },
  {
   "cell_type": "code",
   "execution_count": null,
   "metadata": {},
   "outputs": [],
   "source": [
    "plt.rcParams['figure.figsize'] = 5,5\n",
    "\n",
    "ax = sns.heatmap(data=processed_data.pivot(index=SOURCE_FREQUENCY, columns=TARGET_FREQUENCY, values=\"valids\"), vmin=0, square=True, cmap=\"viridis\", linecolor=\"black\", linewidths=0.5)\n",
    "ax.invert_yaxis()\n",
    "\n",
    "Plotting.savefig(experiment, 'ftalat_valids_hati.pdf', annotations_y_offset=0.05, annotations_y_spacing=0.025)"
   ]
  },
  {
   "cell_type": "code",
   "execution_count": null,
   "metadata": {},
   "outputs": [],
   "source": [
    "plt.rcParams['figure.figsize'] = 5,5\n",
    "\n",
    "ax = sns.heatmap(data=processed_data.pivot(index=SOURCE_FREQUENCY, columns=TARGET_FREQUENCY, values=\"median\"), vmin=0, vmax=1200, square=True, cmap=\"viridis\", linecolor=\"black\", linewidths=0.5)\n",
    "ax.invert_yaxis()\n",
    "\n",
    "Plotting.savefig(experiment, 'ftalat_median_hati.pdf', annotations_y_offset=0.05, annotations_y_spacing=0.025)"
   ]
  },
  {
   "cell_type": "code",
   "execution_count": null,
   "metadata": {},
   "outputs": [],
   "source": [
    "plt.rcParams['figure.figsize'] = 5,5\n",
    "\n",
    "ax = sns.heatmap(data=processed_data.pivot(index=SOURCE_FREQUENCY, columns=TARGET_FREQUENCY, values=\"median_<1ms\"), vmin=0, vmax=1200, square=True, cmap=\"viridis\", linecolor=\"black\", linewidths=0.5)\n",
    "ax.invert_yaxis()\n",
    "\n",
    "Plotting.savefig(experiment, 'ftalat_median_<1ms_hati.pdf', annotations_y_offset=0.05, annotations_y_spacing=0.025)"
   ]
  },
  {
   "cell_type": "code",
   "execution_count": null,
   "metadata": {},
   "outputs": [],
   "source": [
    "plt.rcParams['figure.figsize'] = 5,5\n",
    "\n",
    "ax = sns.heatmap(data=processed_data.pivot(index=SOURCE_FREQUENCY, columns=TARGET_FREQUENCY, values=\"median_>1ms\"), vmin=0, vmax=1200, square=True, cmap=\"viridis\", linecolor=\"black\", linewidths=0.5)\n",
    "ax.invert_yaxis()\n",
    "\n",
    "Plotting.savefig(experiment, 'ftalat_median_>1ms_hati.pdf', annotations_y_offset=0.05, annotations_y_spacing=0.025)"
   ]
  },
  {
   "cell_type": "code",
   "execution_count": null,
   "metadata": {},
   "outputs": [],
   "source": [
    "plt.rcParams['figure.figsize'] = 5,5\n",
    "\n",
    "ax = sns.heatmap(data=processed_data.pivot(index=SOURCE_FREQUENCY, columns=TARGET_FREQUENCY, values=\"1percentQuantile\"), vmin=0, square=True, cmap=\"viridis\", linecolor=\"black\", linewidths=0.5)\n",
    "ax.invert_yaxis()\n",
    "\n",
    "Plotting.savefig(experiment, 'ftalat_1percentQuantile_hati.pdf', annotations_y_offset=0.05, annotations_y_spacing=0.025)"
   ]
  },
  {
   "cell_type": "code",
   "execution_count": null,
   "metadata": {},
   "outputs": [],
   "source": [
    "plt.rcParams['figure.figsize'] = 5,5\n",
    "\n",
    "ax = sns.heatmap(data=processed_data.pivot(index=SOURCE_FREQUENCY, columns=TARGET_FREQUENCY, values=\"95percentQuantile\"), vmin=0, square=True, cmap=\"viridis\", linecolor=\"black\", linewidths=0.5)\n",
    "ax.invert_yaxis()\n",
    "\n",
    "Plotting.savefig(experiment, 'ftalat_95percentQuantile_hati.pdf', annotations_y_offset=0.05, annotations_y_spacing=0.025)"
   ]
  },
  {
   "cell_type": "code",
   "execution_count": null,
   "metadata": {},
   "outputs": [],
   "source": [
    "plt.rcParams['figure.figsize'] = 5,5\n",
    "\n",
    "ax = sns.heatmap(data=processed_data.pivot(index=SOURCE_FREQUENCY, columns=TARGET_FREQUENCY, values=\"99percentQuantile\"), vmin=0, square=True, cmap=\"viridis\", linecolor=\"black\", linewidths=0.5)\n",
    "ax.invert_yaxis()\n",
    "\n",
    "Plotting.savefig(experiment, 'ftalat_99percentQuantile_hati.pdf', annotations_y_offset=0.05, annotations_y_spacing=0.025)"
   ]
  },
  {
   "cell_type": "code",
   "execution_count": null,
   "metadata": {},
   "outputs": [],
   "source": [
    "col_order = [1.8, 1.9, 2.0, 2.1, 2.2, 2.3, 2.4, 2.5, 2.6, 2.7, 2.8, 2.9]"
   ]
  },
  {
   "cell_type": "code",
   "execution_count": null,
   "metadata": {},
   "outputs": [],
   "source": [
    "filtered_data = all_data\n",
    "filtered_data = filtered_data[filtered_data[SOURCE_FREQUENCY] == 1.2]\n",
    "filtered_data = filtered_data[filtered_data[TARGET_FREQUENCY] >= 1.8]\n",
    "filtered_data = filtered_data[filtered_data[TARGET_FREQUENCY] <= 2.9]\n",
    "filtered_data"
   ]
  },
  {
   "cell_type": "code",
   "execution_count": null,
   "metadata": {},
   "outputs": [],
   "source": [
    "g = sns.FacetGrid(filtered_data, col=TARGET_FREQUENCY,  row=SOURCE_FREQUENCY, height=5, col_order=col_order)\n",
    "g.map(sns.histplot, \"Change time [us]\", alpha=0.3)\n",
    "g.add_legend()"
   ]
  },
  {
   "cell_type": "code",
   "execution_count": null,
   "metadata": {},
   "outputs": [],
   "source": [
    "g = sns.FacetGrid(filtered_data, col=TARGET_FREQUENCY,  row=SOURCE_FREQUENCY, height=5, col_order=col_order)\n",
    "g.map(sns.histplot, \"Wait time [us]\", alpha=0.3, binwidth=100)\n",
    "g.add_legend()"
   ]
  },
  {
   "cell_type": "code",
   "execution_count": null,
   "metadata": {},
   "outputs": [],
   "source": [
    "g = sns.FacetGrid(filtered_data, col=TARGET_FREQUENCY, height=5, col_order=col_order, ylim=(0,2000), xlim=(0, 20000), col_wrap=4)\n",
    "g.map(sns.scatterplot, WAIT_LATENCY_BETWEEN_RUNS, TRANSITION_LATENCY, alpha=0.2)\n",
    "g.add_legend()\n",
    "buckets = [2000+ 1625*i for i in range(11)]\n",
    "for axi in g.axes:\n",
    "    for i in buckets:\n",
    "        axi.axvline(x=i, color='black', dashes=[2], linewidth=1)\n",
    "    axi.axhline(y=900, color='black', dashes=[2], linewidth=1)\n",
    "    axi.axhline(y=900+200, color='black', dashes=[2], linewidth=1)\n",
    "    axi.axhline(y=900+400, color='black', dashes=[2], linewidth=1)\n",
    "    axi.axhline(y=900+600, color='black', dashes=[2], linewidth=1)\n",
    "    axi.axhline(y=900+800, color='black', dashes=[2], linewidth=1)\n",
    "    axi.axhline(y=900-200, color='black', dashes=[2], linewidth=1)\n",
    "    axi.axhline(y=900-400, color='black', dashes=[2], linewidth=1)\n",
    "    axi.axhline(y=900-600, color='black', dashes=[2], linewidth=1)\n",
    "    axi.axhline(y=900-800, color='black', dashes=[2], linewidth=1)\n",
    "\n",
    "Plotting.savefig(experiment, 'ftalat_scatter_wait_transition_latency_hati.pdf', annotations_y_offset=0, annotations_y_spacing=0.0125)"
   ]
  },
  {
   "cell_type": "code",
   "execution_count": null,
   "metadata": {},
   "outputs": [],
   "source": [
    "g = sns.FacetGrid(filtered_data, col=TARGET_FREQUENCY, height=5, col_order=col_order, ylim=(0,2000), xlim=(0, 20000), col_wrap=4)\n",
    "g.map(sns.scatterplot, WAIT_LATENCY, TRANSITION_LATENCY, alpha=0.2)\n",
    "g.add_legend()\n",
    "buckets = [2000, 3500, 5000, 6500]\n",
    "for axi in g.axes:\n",
    "    for i in buckets:\n",
    "        axi.axvline(x=i, color='black', dashes=[2], linewidth=1)\n",
    "    axi.axhline(y=875, color='black', dashes=[2], linewidth=1)"
   ]
  },
  {
   "cell_type": "code",
   "execution_count": null,
   "metadata": {},
   "outputs": [],
   "source": [
    "for source_freq in [0.8, 0.9, 1.0, 1.1, 1.2, 1.3, 1.4, 1.5, 1.6, 1.7, 1.8, 1.9, 2.0, 2.1, 2.2, 2.3, 2.4, 2.5, 2.6, 2.7, 2.8, 2.9]:\n",
    "    filtered_data = all_data\n",
    "    filtered_data = filtered_data[filtered_data[SOURCE_FREQUENCY] == source_freq]\n",
    "\n",
    "    g = sns.FacetGrid(filtered_data, col=TARGET_FREQUENCY, height=5, ylim=(0,2000), xlim=(0, 20000), col_wrap=4)\n",
    "    g.map(sns.scatterplot, WAIT_LATENCY_BETWEEN_RUNS, TRANSITION_LATENCY, alpha=0.2)\n",
    "    g.add_legend()\n",
    "    buckets = [2000+ 1625*i for i in range(11)]\n",
    "    for axi in g.axes:\n",
    "        for i in buckets:\n",
    "            axi.axvline(x=i, color='black', dashes=[2], linewidth=1)\n",
    "        axi.axhline(y=900, color='black', dashes=[2], linewidth=1)\n",
    "        axi.axhline(y=900+200, color='black', dashes=[2], linewidth=1)\n",
    "        axi.axhline(y=900+400, color='black', dashes=[2], linewidth=1)\n",
    "        axi.axhline(y=900+600, color='black', dashes=[2], linewidth=1)\n",
    "        axi.axhline(y=900+800, color='black', dashes=[2], linewidth=1)\n",
    "        axi.axhline(y=900-200, color='black', dashes=[2], linewidth=1)\n",
    "        axi.axhline(y=900-400, color='black', dashes=[2], linewidth=1)\n",
    "        axi.axhline(y=900-600, color='black', dashes=[2], linewidth=1)\n",
    "        axi.axhline(y=900-800, color='black', dashes=[2], linewidth=1)\n",
    "\n",
    "    Plotting.savefig(experiment, f'ftalat_scatter_wait_transition_latency_hati_source_{source_freq}.pdf', annotations_y_offset=0, annotations_y_spacing=0.005)"
   ]
  }
 ],
 "metadata": {
  "kernelspec": {
   "display_name": "Python 3 (ipykernel)",
   "language": "python",
   "name": "python3"
  },
  "language_info": {
   "codemirror_mode": {
    "name": "ipython",
    "version": 3
   },
   "file_extension": ".py",
   "mimetype": "text/x-python",
   "name": "python",
   "nbconvert_exporter": "python",
   "pygments_lexer": "ipython3",
   "version": "3.12.11"
  }
 },
 "nbformat": 4,
 "nbformat_minor": 4
}
