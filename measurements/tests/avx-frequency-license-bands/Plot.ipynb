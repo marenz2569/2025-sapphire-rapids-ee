{
 "cells": [
  {
   "cell_type": "code",
   "execution_count": null,
   "metadata": {},
   "outputs": [],
   "source": [
    "import os\n",
    "from pathlib import Path\n",
    "import pandas as pd\n",
    "import numpy as np\n",
    "import matplotlib.pyplot as plt\n",
    "import matplotlib\n",
    "import glob\n",
    "import seaborn as sns\n",
    "from experiment_utils import Experiment, ExperimentFilter, Plotting, IsstPerfProfile"
   ]
  },
  {
   "cell_type": "code",
   "execution_count": null,
   "metadata": {},
   "outputs": [],
   "source": [
    "experiments = Experiment.get_experiments()\n",
    "experiments = list(filter(ExperimentFilter.by_experiment_name('avx-frequency-license-bands'), experiments))\n",
    "experiment = ExperimentFilter.get_latest(experiments)\n",
    "experiment"
   ]
  },
  {
   "cell_type": "code",
   "execution_count": null,
   "metadata": {},
   "outputs": [],
   "source": [
    "result = IsstPerfProfile.parse(f'{experiment.path}/isst-perf-profile.log')\n",
    "result.profiles"
   ]
  },
  {
   "cell_type": "code",
   "execution_count": null,
   "metadata": {},
   "outputs": [],
   "source": [
    "print(result.profiles[0].turbo_levels)"
   ]
  },
  {
   "cell_type": "code",
   "execution_count": null,
   "metadata": {},
   "outputs": [],
   "source": [
    "license_level_to_name = {\n",
    "    '0': 'SSE',\n",
    "    '1': 'AVX2',\n",
    "    '2': 'AVX512',\n",
    "    '3': 'AMX'\n",
    "}\n",
    "\n",
    "LIC_NAME = 'License name'\n",
    "CORE_COUNT = 'Number of active cores'\n",
    "MAX_TURBO_FREQ = 'Maximum opportunistic turbo frequency [MHz]'\n",
    "\n",
    "freq_vs_number_of_cores = pd.DataFrame(result.profiles[0].turbo_levels)\n",
    "freq_vs_number_of_cores[LIC_NAME] = freq_vs_number_of_cores['level'].apply(lambda v: license_level_to_name[v])\n",
    "freq_vs_number_of_cores[CORE_COUNT] = freq_vs_number_of_cores['core_count']\n",
    "freq_vs_number_of_cores[MAX_TURBO_FREQ] = freq_vs_number_of_cores['max_turbo_frequency_mhz']\n",
    "\n",
    "freq_vs_number_of_cores\n"
   ]
  },
  {
   "cell_type": "code",
   "execution_count": null,
   "metadata": {},
   "outputs": [],
   "source": [
    "hue_order=['AMX', 'AVX512', 'AVX2', 'SSE']"
   ]
  },
  {
   "cell_type": "code",
   "execution_count": null,
   "metadata": {},
   "outputs": [],
   "source": [
    "# plt.figure(figsize=(10,6))\n",
    "ax = sns.scatterplot(data=freq_vs_number_of_cores, x=CORE_COUNT, y=MAX_TURBO_FREQ, hue=LIC_NAME, linewidth=1.5, marker='o', hue_order=hue_order)\n",
    "\n",
    "# Overlay the red markers for the SSE2 license on the left\n",
    "sse_marker = freq_vs_number_of_cores[freq_vs_number_of_cores[LIC_NAME] == 'SSE']\n",
    "plt.plot(sse_marker[CORE_COUNT], sse_marker[MAX_TURBO_FREQ], color=sns.color_palette()[3], linestyle='None', markeredgewidth=0.0, ms=4.5, marker=matplotlib.markers.MarkerStyle(\"o\", fillstyle=\"left\"))\n",
    "\n",
    "buckets = [28,34,40,44,48,50,54,56]\n",
    "\n",
    "for i in buckets:\n",
    "    plt.axvline(x=i, color='black', dashes=[2], linewidth=1)\n",
    "\n",
    "# ax.set_ylim(0, 4000)\n",
    "ax.set_xlim(0, 58)\n",
    "ax.set_xticks([0] + buckets)\n",
    "\n",
    "plt.xticks(rotation=45)\n",
    "ax.tick_params(axis='x', pad=0)\n",
    "\n",
    "Plotting.savefig(experiment, 'avx-frequency-license-bands.pdf', annotations_y_offset=0, annotations_y_spacing=0.025)"
   ]
  }
 ],
 "metadata": {
  "kernelspec": {
   "display_name": "Python 3 (ipykernel)",
   "language": "python",
   "name": "python3"
  },
  "language_info": {
   "codemirror_mode": {
    "name": "ipython",
    "version": 3
   },
   "file_extension": ".py",
   "mimetype": "text/x-python",
   "name": "python",
   "nbconvert_exporter": "python",
   "pygments_lexer": "ipython3",
   "version": "3.12.11"
  }
 },
 "nbformat": 4,
 "nbformat_minor": 2
}
