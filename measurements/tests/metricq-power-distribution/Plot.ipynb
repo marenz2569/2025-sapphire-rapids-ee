{
 "cells": [
  {
   "cell_type": "markdown",
   "metadata": {},
   "source": [
    "Copyright (C) 2021 TU Dresden, Center for Information Services and\n",
    "High Performance Computing\n",
    "\n",
    "Copyright (C) 2025 Markus Schmidl\n",
    "\n",
    "This program is free software: you can redistribute it and/or modify\n",
    "it under the terms of the GNU General Public License as published by\n",
    "the Free Software Foundation, either version 3 of the License, or\n",
    "(at your option) any later version.\n",
    "\n",
    "This program is distributed in the hope that it will be useful,\n",
    "but WITHOUT ANY WARRANTY; without even the implied warranty of\n",
    "MERCHANTABILITY or FITNESS FOR A PARTICULAR PURPOSE.  See the\n",
    "GNU General Public License for more details.\n",
    "\n",
    "You should have received a copy of the GNU General Public License\n",
    "along with this program.  If not, see <https://www.gnu.org/licenses/>."
   ]
  },
  {
   "cell_type": "code",
   "execution_count": null,
   "metadata": {},
   "outputs": [],
   "source": [
    "import pickle\n",
    "import seaborn as sns\n",
    "import pandas as pd\n",
    "from experiment_utils import Experiment, ExperimentFilter, Plotting\n",
    "from experiment_utils.metricq import Counter"
   ]
  },
  {
   "cell_type": "code",
   "execution_count": null,
   "metadata": {},
   "outputs": [],
   "source": [
    "experiments = Experiment.get_experiments()\n",
    "experiments = list(filter(ExperimentFilter.by_experiment_name('metricq-power-distribution'), experiments))\n",
    "experiment = ExperimentFilter.get_latest(experiments)\n",
    "experiment"
   ]
  },
  {
   "cell_type": "code",
   "execution_count": null,
   "metadata": {},
   "outputs": [],
   "source": [
    "POWER = 'Power in bins of 0.1W'\n",
    "COUNT = 'Number of samples'\n",
    "PERCENT = 'Number of samples [%]'\n",
    "\n",
    "IDLE_THRESHOLD = 200\n",
    "MAX_POWER_THRESHOLD = 900"
   ]
  },
  {
   "cell_type": "code",
   "execution_count": null,
   "metadata": {},
   "outputs": [],
   "source": [
    "with open(experiment.path / 'counters.pickle', 'rb') as f:\n",
    "    counters = pickle.load(f)\n",
    "\n",
    "    total_counter = Counter()\n",
    "    for hostname, counter in counters.items():\n",
    "        for key, value in counter.items():\n",
    "            total_counter[key] += value\n",
    "\n",
    "df = pd.DataFrame.from_dict(total_counter, orient='index')\n",
    "df.reset_index(inplace=True)\n",
    "df.columns = [POWER, COUNT]\n",
    "\n",
    "total_count = sum(df[COUNT].to_list())\n",
    "print(f'Total number of samples {total_count}')\n",
    "df[PERCENT] = df[COUNT] / total_count * 100\n",
    "\n",
    "below = sum(df[df[POWER] < IDLE_THRESHOLD][COUNT].to_list()) / total_count\n",
    "above = sum(df[df[POWER] >= IDLE_THRESHOLD][COUNT].to_list()) / total_count\n",
    "print(f\"{below*100}% below, {above*100}% above IDLE_THRESHOLD of {IDLE_THRESHOLD}W\")\n",
    "\n",
    "df"
   ]
  },
  {
   "cell_type": "code",
   "execution_count": null,
   "metadata": {},
   "outputs": [],
   "source": [
    "ax = sns.lineplot(x=POWER, y=PERCENT, data=df)\n",
    "ax.set_xlim(0, MAX_POWER_THRESHOLD)\n",
    "ax.set_ylim(ymin=0)\n",
    "\n",
    "Plotting.savefig(experiment, f'power_histogram.pdf', annotations_x_offset=0.05, annotations_y_offset=0.01, annotations_y_spacing=0.025)"
   ]
  },
  {
   "cell_type": "code",
   "execution_count": null,
   "metadata": {},
   "outputs": [],
   "source": [
    "ax = sns.ecdfplot(x=POWER, weights=COUNT, stat='percent', data=df)\n",
    "ax.set_xlim(0, MAX_POWER_THRESHOLD)\n",
    "ax.set_ylim(0, 100)\n",
    "Plotting.savefig(experiment, f'power_ecdf.pdf', annotations_x_offset=0.05, annotations_y_offset=0.01, annotations_y_spacing=0.025)"
   ]
  }
 ],
 "metadata": {
  "kernelspec": {
   "display_name": "Python 3 (ipykernel)",
   "language": "python",
   "name": "python3"
  },
  "language_info": {
   "codemirror_mode": {
    "name": "ipython",
    "version": 3
   },
   "file_extension": ".py",
   "mimetype": "text/x-python",
   "name": "python",
   "nbconvert_exporter": "python",
   "pygments_lexer": "ipython3",
   "version": "3.12.11"
  }
 },
 "nbformat": 4,
 "nbformat_minor": 4
}
